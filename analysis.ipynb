{
 "cells": [
  {
   "cell_type": "markdown",
   "metadata": {},
   "source": [
    "# COVID-19 in NSW\n",
    "\n",
    "This project aims to analyse NSW Health's data about reported COVID-19 cases in NSW, to uncover any patterns or trends. In this project, I will clean, query, visualise and explain findings from the analysis.\n",
    "\n",
    "Please see the [README](https://github.com/henrylin03/covid-nsw) for more information.\n",
    "\n",
    "#### Data Source\n",
    "\n",
    "[NSW COVID-19 cases by location](https://data.nsw.gov.au/search/dataset/ds-nsw-ckan-aefcde60-3b0c-4bc0-9af1-6fe652944ec2/details?q=) is published by NSW Health.\n"
   ]
  },
  {
   "cell_type": "markdown",
   "metadata": {},
   "source": [
    "## Setup\n"
   ]
  },
  {
   "cell_type": "markdown",
   "metadata": {},
   "source": [
    "Create SQL engine and load input `.csv` into a SQLite table:\n"
   ]
  },
  {
   "cell_type": "code",
   "execution_count": 79,
   "metadata": {},
   "outputs": [],
   "source": [
    "import pandas as pd\n",
    "from sqlalchemy import create_engine\n",
    "\n",
    "covid_nsw_url = \"https://data.nsw.gov.au/data/dataset/aefcde60-3b0c-4bc0-9af1-6fe652944ec2/resource/5d63b527-e2b8-4c42-ad6f-677f14433520/download/confirmed_cases_table1_location_agg.csv\"\n",
    "covid_df = pd.read_csv(covid_nsw_url)\n",
    "\n",
    "engine = create_engine(\"sqlite://\", echo=False)\n",
    "covid_df.to_sql(\"covid\", engine, if_exists=\"replace\", index=False)\n",
    "\n",
    "pd.read_sql_query(\"SELECT * FROM covid LIMIT 5\", engine)\n"
   ]
  },
  {
   "cell_type": "markdown",
   "metadata": {},
   "source": [
    "## Cleaning\n",
    "\n",
    "The dataset is prepared for analysis by inspecting and cleaning, where appropriate.\n"
   ]
  },
  {
   "cell_type": "markdown",
   "metadata": {},
   "source": [
    "### Removing suffix to LGAs\n",
    "\n",
    "In the `lga_name19` column, some Local Government Areas (LGAs) have bracketed suffixes:\n",
    "\n",
    "1. `(A)` and `(C)`: remove as do not appear to have significance in distinguishing LGAs. NSW Health did not provide guidance in the [dataset's dictionary](https://data.nsw.gov.au/data/dataset/covid-19-cases-by-location/resource/5d63b527-e2b8-4c42-ad6f-677f14433520) nor elsewhere.\n",
    "2. `(NSW)`: remove as all LGAs are within NSW.\n",
    "\n",
    "I will remove using SQL's `REPLACE()` function, and add to a new column \"`lga`\":\n"
   ]
  },
  {
   "cell_type": "code",
   "execution_count": null,
   "metadata": {},
   "outputs": [],
   "source": [
    "covid_lga_cleaned = pd.read_sql_query(\n",
    "    \"\"\"\n",
    "        SELECT *,\n",
    "            REPLACE(\n",
    "                REPLACE(\n",
    "                    REPLACE(\n",
    "                        lga_name19, ' (A)', ''\n",
    "                    ), ' (C)', ''\n",
    "                ), ' (NSW)', ''\n",
    "            ) AS 'lga'\n",
    "        FROM covid\n",
    "    \"\"\",\n",
    "    engine,\n",
    ")\n",
    "\n",
    "covid_lga_cleaned.to_sql(\"covid\", engine, if_exists=\"replace\", index=False)\n",
    "covid_lga_cleaned.head(3)\n"
   ]
  },
  {
   "cell_type": "markdown",
   "metadata": {},
   "source": [
    "### Missing\n",
    "\n",
    "There are missing values in both `postcode` and `confirmed_by_pcr` columns:\n"
   ]
  },
  {
   "cell_type": "code",
   "execution_count": null,
   "metadata": {
    "tags": []
   },
   "outputs": [],
   "source": [
    "pd.read_sql_query(\n",
    "    \"\"\"\n",
    "    SELECT SUM(CASE WHEN notification_date IS NULL THEN 1 ELSE 0 END) AS 'nd_miss',\n",
    "        SUM(CASE WHEN postcode IS 'None' THEN 1 ELSE 0 END) AS 'pc_miss',\n",
    "        SUM(CASE WHEN lhd_2010_code IS  NULL THEN 1 ELSE 0 END) AS 'lhdc_miss',\n",
    "        SUM(CASE WHEN lhd_2010_name IS NULL THEN 1 ELSE 0 END) AS 'lhdn_miss',\n",
    "        SUM(CASE WHEN lga_code19 IS NULL THEN 1 ELSE 0 END) AS 'lgac_miss',\n",
    "        SUM(CASE WHEN lga_name19 IS NULL THEN 1 ELSE 0 END) AS 'lgan_miss',\n",
    "        SUM(CASE WHEN confirmed_by_pcr IS NULL THEN 1 ELSE 0 END) AS 'pcr_miss',\n",
    "        SUM(CASE WHEN confirmed_cases_count IS NULL THEN 1 ELSE 0 END) AS 'confirmed_cases_miss',\n",
    "        SUM(CASE WHEN lga IS NULL THEN 1 ELSE 0 END) AS 'lga_miss'\n",
    "    FROM covid\n",
    "\"\"\",\n",
    "    engine,\n",
    ")\n"
   ]
  },
  {
   "cell_type": "markdown",
   "metadata": {},
   "source": [
    "However, these are both difficult to impute:\n",
    "\n",
    "- `postcode`: although Local Government Area (LGA) information is not missing for rows with missing `postcode`, LGA to postcode's relationship is M:M. There can be multiple postcodes in an LGA (e.g. [Georges River has 6 postcodes](https://www.worldpostalcodes.org/l1/en/au/australia/map/r2/map-of-postcodes-in-georges-river)), and a postcode can be in multiple LGAs (e.g. [2153 (Baulkham Hills) is in both The Hills and Parramatta LGAs](https://en.wikipedia.org/wiki/Baulkham_Hills,_New_South_Wales).\n",
    "\n",
    "- `confirmed_by_pcr` records whether a case detected by Rapid Antigen Tests (RAT) was also confirmed by PCR. All missing values were prior to 19 Jan '22 (_see below_) and would be difficult to impute.\n"
   ]
  },
  {
   "cell_type": "code",
   "execution_count": null,
   "metadata": {},
   "outputs": [],
   "source": [
    "pd.read_sql_query(\n",
    "    \"\"\"\n",
    "        SELECT MAX(notification_date) AS 'latest_pcr_miss_date'\n",
    "        FROM covid\n",
    "        WHERE confirmed_by_pcr IS NULL\n",
    "    \"\"\",\n",
    "    engine,\n",
    ")\n"
   ]
  },
  {
   "cell_type": "markdown",
   "metadata": {},
   "source": [
    "## Analysis\n",
    "\n",
    "In this section, I use SQL queries and Python visualisations to highlight insights in the data.\n"
   ]
  },
  {
   "cell_type": "markdown",
   "metadata": {},
   "source": [
    "### Daily cases have trended upwards\n",
    "\n",
    "Since reporting started on 25 Jan 2020, daily cases have trended upwards, **peaking in Jan 2022**, and then to a lesser peak in Mar 2022.\n"
   ]
  },
  {
   "cell_type": "code",
   "execution_count": null,
   "metadata": {
    "scrolled": true,
    "tags": []
   },
   "outputs": [],
   "source": [
    "import matplotlib.pyplot as plt\n",
    "import matplotlib.dates as md\n",
    "import seaborn as sns\n",
    "\n",
    "# querying\n",
    "daily_cases = pd.read_sql_query(\n",
    "    \"\"\"\n",
    "        SELECT DATE(notification_date) AS 'date',\n",
    "            SUM(confirmed_cases_count) AS 'reported_cases'\n",
    "        FROM covid\n",
    "        GROUP BY 1\n",
    "    \"\"\",\n",
    "    engine,\n",
    ")\n",
    "\n",
    "# transforming and extracting from DataFrame for visualisation\n",
    "daily_cases[\"date\"] = pd.to_datetime(daily_cases[\"date\"], format=\"%Y-%m-%d\")\n",
    "start_date = daily_cases.date.min().strftime(\"%d %b %Y\")\n",
    "end_date = daily_cases.date.max().strftime(\"%d %b %Y\")\n",
    "\n",
    "# plotting visualisation\n",
    "sns.set_style(\"dark\", {\"axes.facecolor\": \"0.95\"})\n",
    "sns.set_palette(\"dark\")\n",
    "\n",
    "fig, ax = plt.subplots(figsize=(16, 7))\n",
    "sns.lineplot(x=\"date\", y=\"reported_cases\", data=daily_cases, ax=ax, linewidth=2)\n",
    "plt.fill_between(x=daily_cases[\"date\"], y1=daily_cases[\"reported_cases\"], alpha=0.2)\n",
    "\n",
    "# setting x-axis ticks\n",
    "ax.xaxis.set_minor_locator(md.MonthLocator(bymonth=range(13)))\n",
    "ax.xaxis.set_minor_formatter(md.DateFormatter(\"%b\"))\n",
    "ax.xaxis.set_major_locator(md.YearLocator(month=7, day=2))\n",
    "ax.xaxis.set_major_formatter(md.DateFormatter(\"\\n\\n%Y\"))\n",
    "plt.setp(ax.xaxis.get_minorticklabels(), rotation=90)\n",
    "ax.tick_params(axis=\"both\", labelsize=12)\n",
    "\n",
    "# modifying line-chart parameters\n",
    "ax.figure.suptitle(\"Reported COVID Cases in NSW\", fontsize=18)\n",
    "ax.set_title(f\"{start_date} to {end_date}\", y=1.02, style=\"italic\")\n",
    "ax.set_ylabel(\"Reported Cases\", fontsize=13, labelpad=20)\n",
    "ax.set_xlabel(None)\n",
    "fig.subplots_adjust(top=0.89)\n",
    "\n",
    "plt.show()\n",
    "plt.clf()\n"
   ]
  },
  {
   "cell_type": "markdown",
   "metadata": {},
   "source": [
    "#### Cases peaked in Jan 2022, and then in Mar 2022...\n",
    "\n",
    "The **top 10 daily cases all occurred in _Jan 2022_**. 11th to 16th are part of the Mar 2022 spike.\n"
   ]
  },
  {
   "cell_type": "code",
   "execution_count": null,
   "metadata": {
    "scrolled": true
   },
   "outputs": [],
   "source": [
    "pd.read_sql_query(\n",
    "    \"\"\"\n",
    "    SELECT\n",
    "        RANK() OVER (\n",
    "            ORDER BY SUM(confirmed_cases_count) DESC\n",
    "        ) AS 'rank',\n",
    "        DATE(notification_date) AS 'date',\n",
    "        STRFTIME('%m-%Y', notification_date) AS 'month_year',\n",
    "        SUM(confirmed_cases_count) AS 'reported_cases'\n",
    "    FROM covid\n",
    "    GROUP BY 2\n",
    "    ORDER BY 4 DESC\n",
    "    LIMIT 20\n",
    "\"\"\",\n",
    "    engine,\n",
    ")\n"
   ]
  },
  {
   "cell_type": "markdown",
   "metadata": {},
   "source": [
    "#### Cases typically peak mid-week, decreasing into the weekend...\n",
    "\n",
    "Over the reporting period, average daily cases tend to increase after the weekend, **peaking on Wednesdays** (daily average = 14.9 cases), before **reducing into the weekend until Sundays** (daily average = 11 cases).\n"
   ]
  },
  {
   "cell_type": "code",
   "execution_count": null,
   "metadata": {
    "scrolled": true
   },
   "outputs": [],
   "source": [
    "days_of_wk = pd.read_sql_query(\n",
    "    \"\"\"\n",
    "    SELECT\n",
    "        SUBSTR(\n",
    "            'SunMonTueWedThuFriSat',\n",
    "            1 + 3 * STRFTIME('%w', notification_date), 3\n",
    "        ) AS 'day_of_wk',\n",
    "        ROUND(\n",
    "            AVG(confirmed_cases_count), 1\n",
    "        ) AS 'cases_avg'\n",
    "    FROM covid\n",
    "    GROUP BY 1\n",
    "    ORDER BY STRFTIME('%w', notification_date)\n",
    "\"\"\",\n",
    "    engine,\n",
    ")\n",
    "\n",
    "# Ordering by STRFTIME('%w') would start the week on Sunday instead of Monday\n",
    "days_of_wk[\"day_of_wk\"] = pd.Categorical(\n",
    "    days_of_wk.day_of_wk,\n",
    "    [\"Mon\", \"Tue\", \"Wed\", \"Thu\", \"Fri\", \"Sat\", \"Sun\"],\n",
    "    ordered=True,\n",
    ")\n",
    "days_of_wk.sort_values(\"day_of_wk\", inplace=True)\n",
    "\n",
    "# Plotting\n",
    "sns.set_palette(\"Set1\", 7)\n",
    "\n",
    "fig, ax = plt.subplots(figsize=(10, 8))\n",
    "\n",
    "sns.barplot(\n",
    "    data=days_of_wk,\n",
    "    x=\"day_of_wk\",\n",
    "    y=\"cases_avg\",\n",
    "    edgecolor=\"black\",\n",
    "    linewidth=1.5,\n",
    "    ax=ax,\n",
    "    alpha=0.7,\n",
    ").set(xlabel=None, ylabel=\"Cases\", title=\"Avg Cases Over the Week\")\n",
    "\n",
    "plt.show()\n",
    "plt.clf()\n",
    "\n",
    "display(days_of_wk)\n"
   ]
  },
  {
   "cell_type": "markdown",
   "metadata": {},
   "source": [
    "### \"Zero\" days\n",
    "\n",
    "Days without any COVID-19 cases were more frequent at the beginning of the reporting period. **Feb 2020 was an entire _month_ of zero days.**\n"
   ]
  },
  {
   "cell_type": "code",
   "execution_count": null,
   "metadata": {
    "scrolled": true
   },
   "outputs": [],
   "source": [
    "zero_days_df = pd.read_sql_query(\n",
    "    \"\"\"\n",
    "        WITH RECURSIVE dates(date) AS (\n",
    "            VALUES((\n",
    "                SELECT MIN(notification_date)\n",
    "                FROM covid\n",
    "                )\n",
    "            )\n",
    "            UNION ALL\n",
    "            SELECT DATE(date, '+1 day')\n",
    "            FROM dates\n",
    "            WHERE date < (\n",
    "                SELECT MAX(notification_date)\n",
    "                FROM covid\n",
    "                )\n",
    "            )\n",
    "\n",
    "        SELECT\n",
    "            d.*\n",
    "        FROM dates d\n",
    "        LEFT JOIN covid c\n",
    "            ON c.notification_date = d.date\n",
    "        WHERE c.notification_date IS NULL\n",
    "        ORDER BY 1\n",
    "        \"\"\",\n",
    "    engine,\n",
    ")\n",
    "\n",
    "zero_days_df.to_sql(\"zero_days\", engine, if_exists=\"replace\", index=False)\n",
    "zero_days_df\n"
   ]
  },
  {
   "cell_type": "code",
   "execution_count": null,
   "metadata": {
    "scrolled": true
   },
   "outputs": [],
   "source": [
    "pd.read_sql_query(\n",
    "    \"\"\"\n",
    "    SELECT \n",
    "        STRFTIME('%Y-%m', date) AS 'year_month',\n",
    "        COUNT(*) AS 'zero_days_count'\n",
    "    FROM zero_days\n",
    "    GROUP BY 1\n",
    "    ORDER BY 1\n",
    "\"\"\",\n",
    "    engine,\n",
    ")\n"
   ]
  },
  {
   "cell_type": "markdown",
   "metadata": {},
   "source": [
    "#### Days since the last \"zero\" day\n",
    "\n",
    "As of the latest date in the dataset, the days since the last \"zero day\" is...\n"
   ]
  },
  {
   "cell_type": "code",
   "execution_count": null,
   "metadata": {
    "scrolled": true
   },
   "outputs": [],
   "source": [
    "from IPython.display import Markdown\n",
    "import numpy as np\n",
    "\n",
    "last_zeroday = pd.to_datetime(zero_days_df.date.max())\n",
    "days_since_zero = round(\n",
    "    (daily_cases.date.max() - last_zeroday) / np.timedelta64(1, \"D\")\n",
    ")\n",
    "\n",
    "display(\n",
    "    Markdown(\n",
    "        f\"\"\"\n",
    "<h1 align='center'>{days_since_zero}</h1>\n",
    "<div align='center'><br>days since the last COVID-zero day</div>\"\"\"\n",
    "    )\n",
    ")\n"
   ]
  },
  {
   "cell_type": "markdown",
   "metadata": {},
   "source": [
    "#### Previously, the longest continuous streak was 33 days, beginning 3 days after reporting began...\n",
    "\n",
    "3 days after reporting began 25 Jan '20, a 33 day streak ending on 1 Mar '20 was the longest continuous streak.\n",
    "\n",
    "The 2nd longest was 4 days, beginning on 11 Feb '21.\n"
   ]
  },
  {
   "cell_type": "code",
   "execution_count": null,
   "metadata": {},
   "outputs": [],
   "source": [
    "# I minus 1 day from the difference between two dates where there were 1+ reported cases,\n",
    "# as the calculation includes the day that breaks the streak (and has 1+ reported cases)\n",
    "\n",
    "zd_streaks = pd.read_sql_query(\n",
    "    \"\"\"\n",
    "        WITH daily_cases AS (\n",
    "            SELECT \n",
    "                DATE(notification_date) AS 'date',\n",
    "                SUM(confirmed_cases_count) AS 'reported_cases'\n",
    "            FROM covid\n",
    "            GROUP BY 1\n",
    "        )\n",
    "\n",
    "        SELECT *\n",
    "        FROM (\n",
    "            SELECT \n",
    "                date AS 'date_streak_broken', \n",
    "                ROUND(\n",
    "                    JULIANDAY(date) \n",
    "                    - JULIANDAY(\n",
    "                            LAG(date) OVER (\n",
    "                                ORDER BY date\n",
    "                            )\n",
    "                    )\n",
    "                - 1) AS 'streaks'\n",
    "            FROM daily_cases\n",
    "        )\n",
    "        WHERE streaks > 0\n",
    "        ORDER BY streaks DESC\n",
    "    \"\"\",\n",
    "    engine,\n",
    ")\n",
    "\n",
    "# `date_diff` = 0 is filtered out as these mean no zero days in between those dates\n",
    "\n",
    "zd_streaks[\"streaks\"] = zd_streaks[\"streaks\"].astype(int)\n",
    "\n",
    "zd_streaks\n"
   ]
  },
  {
   "cell_type": "markdown",
   "metadata": {},
   "source": [
    "#### Most \"zero\" days were not consecutive\n",
    "\n",
    "Examining the right-skewed distribution of \"zero\" day streaks, **72% of \"zero\" days were non-consecutive.** The 33-day streak, at the beginning of 2020, is an _outlier_ within the dataset.\n"
   ]
  },
  {
   "cell_type": "code",
   "execution_count": null,
   "metadata": {},
   "outputs": [],
   "source": [
    "import matplotlib.gridspec as gridspec\n",
    "\n",
    "gs = gridspec.GridSpec(2, 2)\n",
    "f = plt.figure(figsize=(10, 8))\n",
    "\n",
    "# histogram for distribution\n",
    "sns.set_palette(\"dark\")\n",
    "zd_hist = f.add_subplot(gs[:-1, :])\n",
    "sns.histplot(\n",
    "    data=zd_streaks,\n",
    "    x=\"streaks\",\n",
    "    alpha=0.5,\n",
    "    legend=False,\n",
    "    edgecolor=\"black\",\n",
    "    linewidth=1.5,\n",
    ").set(xlabel=\"Continuous Zero Days\", title=\"Distribution of Zero Days Streaks\")\n",
    "\n",
    "# countplot for distribution\n",
    "sns.set_palette(\"Set1\")\n",
    "zd_countp = f.add_subplot(gs[1, 0])\n",
    "sns.countplot(data=zd_streaks, x=\"streaks\", edgecolor=\"black\", linewidth=1.5).set(\n",
    "    xlabel=\"Continuous Zero Days\", ylabel=\"Count\", title=\"Zero Days Streaks\"\n",
    ")\n",
    "\n",
    "# donut chart for proportion\n",
    "zd_prop = f.add_subplot(gs[1, 1])\n",
    "## transforming table for donut chart generation\n",
    "zd_streaks_count = (\n",
    "    zd_streaks.groupby(\"streaks\")\n",
    "    .count()\n",
    "    .reset_index()\n",
    "    .rename(columns={\"date_streak_broken\": \"date_diff_count\"})\n",
    ")\n",
    "zd_donut = plt.pie(\n",
    "    zd_streaks_count[\"date_diff_count\"],\n",
    "    wedgeprops={\"linewidth\": 1.5, \"edgecolor\": \"black\"},\n",
    "    autopct=\"%d%%\",\n",
    ")\n",
    "plt.title(\"Proportion of Zero Days Streaks\")\n",
    "\n",
    "my_circle = plt.Circle((0, 0), 0.7, facecolor=\"white\", edgecolor=\"black\", linewidth=1.5)\n",
    "p = plt.gcf()\n",
    "p.gca().add_artist(my_circle)\n",
    "\n",
    "\n",
    "gs.tight_layout(f)\n",
    "plt.show()\n",
    "plt.clf()\n"
   ]
  },
  {
   "cell_type": "markdown",
   "metadata": {},
   "source": [
    "#### \"Zero\" days occur slightly more on Saturdays...\n",
    "\n",
    "\"Zero\" days are approximately the same over the week. 18% of \"zero\" days occurred on Saturdays (16 times).\n"
   ]
  },
  {
   "cell_type": "code",
   "execution_count": null,
   "metadata": {
    "scrolled": true
   },
   "outputs": [],
   "source": [
    "zd_days_of_wk = pd.read_sql_query(\n",
    "    \"\"\"\n",
    "    SELECT\n",
    "        SUBSTR(\n",
    "            'SunMonTueWedThuFriSat',\n",
    "            1 + 3 * STRFTIME('%w', date), 3\n",
    "        ) AS 'day_of_wk',\n",
    "        COUNT(*) AS 'zero_days_count',\n",
    "        ROUND(\n",
    "            1.0 * COUNT(*) / (\n",
    "                SELECT COUNT(*)\n",
    "                FROM zero_days\n",
    "            ), 2) AS proportion\n",
    "    FROM zero_days\n",
    "    GROUP BY 1\n",
    "    ORDER BY STRFTIME('%w', date)\n",
    "\"\"\",\n",
    "    engine,\n",
    ")\n",
    "\n",
    "zd_days_of_wk[\"day_of_wk\"] = pd.Categorical(\n",
    "    days_of_wk.day_of_wk,\n",
    "    [\"Mon\", \"Tue\", \"Wed\", \"Thu\", \"Fri\", \"Sat\", \"Sun\"],\n",
    "    ordered=True,\n",
    ")\n",
    "zd_days_of_wk.sort_values(\"day_of_wk\", inplace=True)\n",
    "\n",
    "# Plotting\n",
    "sns.set_palette(\"Set1\", 7)\n",
    "fig, ax = plt.subplots(figsize=(10, 8))\n",
    "\n",
    "sns.barplot(\n",
    "    data=zd_days_of_wk,\n",
    "    x=\"day_of_wk\",\n",
    "    y=\"zero_days_count\",\n",
    "    edgecolor=\"black\",\n",
    "    linewidth=1.5,\n",
    "    ax=ax,\n",
    "    alpha=0.7,\n",
    ").set(xlabel=None, ylabel=\"Count of Zero Days\", title=\"Zero Days Over the Week\")\n",
    "\n",
    "plt.show()\n",
    "plt.clf()\n",
    "\n",
    "display(zd_days_of_wk)\n"
   ]
  },
  {
   "cell_type": "markdown",
   "metadata": {},
   "source": [
    "### Location\n"
   ]
  },
  {
   "cell_type": "markdown",
   "metadata": {},
   "source": [
    "#### _Blacktown_ LGA has had the highest number of reported cases in NSW\n",
    "\n",
    "...with 160,000+ cases to date.\n",
    "\n",
    "_Unincorporated NSW_ LGA has the lowest count with < 100 cases since reporting started. \"Hotel Quarantine\" is not an LGA and is excluded from ranking.\n"
   ]
  },
  {
   "cell_type": "code",
   "execution_count": null,
   "metadata": {
    "scrolled": true
   },
   "outputs": [],
   "source": [
    "import matplotlib.ticker as ticker\n",
    "\n",
    "lga_cases_total = pd.read_sql_query(\n",
    "    \"\"\"\n",
    "        SELECT lga, \n",
    "            SUM(confirmed_cases_count) AS 'total_cases',\n",
    "            CAST(\n",
    "                1.0 * SUM(confirmed_cases_count) / (\n",
    "                    SELECT JULIANDAY(MAX(notification_date)) -\n",
    "                        JULIANDAY(MIN(notification_date))\n",
    "                    FROM covid\n",
    "                )\n",
    "            AS INT) AS 'avg_daily_cases'\n",
    "        FROM covid\n",
    "        GROUP BY 1\n",
    "        ORDER BY 2 DESC\n",
    "    \"\"\",\n",
    "    engine,\n",
    ")\n",
    "\n",
    "fig, ax = plt.subplots(figsize=(10, 8))\n",
    "\n",
    "sns.barplot(\n",
    "    x=\"total_cases\",\n",
    "    y=\"lga\",\n",
    "    data=lga_cases_total.head(20),\n",
    "    orient=\"h\",\n",
    "    saturation=8,\n",
    "    color=\"#ef5675\",\n",
    "    edgecolor=\"black\",\n",
    "    linewidth=1.5,\n",
    "    ax=ax,\n",
    ").set(xlabel=\"Total Cases ('000s)\", ylabel=\"LGA\")\n",
    "ax.figure.suptitle(\"Top 20 LGAs by Total COVID Cases\", fontsize=18)\n",
    "ax.set_title(f\"{start_date} to {end_date}\", y=1.02, style=\"italic\")\n",
    "ax.xaxis.set_major_formatter(\n",
    "    ticker.FuncFormatter(lambda x, pos: \"{:,.0f}\".format(x / 1000))\n",
    ")\n",
    "\n",
    "\n",
    "plt.show()\n",
    "plt.clf()\n",
    "print(f\"LGAs by total COVID cases from {start_date} to {end_date}:\")\n",
    "lga_cases_total\n"
   ]
  },
  {
   "cell_type": "markdown",
   "metadata": {},
   "source": [
    "#### Unincorporated NSW was the \"last LGA standing\"\n",
    "\n",
    "_Unincorporated NSW_ LGA did not have any reported cases until 4 Jan 2022, almost two years after the first case was reported in NSW. It was the last LGA to report its first COVID case. Just behind, Bland & Carrathool, both in the Riverina region, did not report their first case until 25 Dec 2021.\n",
    "\n",
    "Contrastingly, Parramatta, Ku-ring-gai & Burwood reported the first COVID cases on day one of reporting.\n"
   ]
  },
  {
   "cell_type": "code",
   "execution_count": null,
   "metadata": {
    "scrolled": true
   },
   "outputs": [],
   "source": [
    "pd.read_sql_query(\n",
    "    \"\"\"\n",
    "    SELECT\n",
    "        FIRST_VALUE(notification_date) OVER (\n",
    "            PARTITION BY lga\n",
    "            ORDER BY notification_date\n",
    "            RANGE BETWEEN UNBOUNDED PRECEDING AND UNBOUNDED FOLLOWING\n",
    "        ) AS 'date_first_case',\n",
    "        lga\n",
    "    FROM covid\n",
    "    GROUP BY 2\n",
    "    ORDER BY 1 DESC\n",
    "\"\"\",\n",
    "    engine,\n",
    ")\n"
   ]
  },
  {
   "attachments": {},
   "cell_type": "markdown",
   "metadata": {},
   "source": [
    "#### Total cases to date, and geography\n"
   ]
  },
  {
   "cell_type": "code",
   "execution_count": null,
   "metadata": {},
   "outputs": [],
   "source": [
    "import geopandas as gpd\n",
    "\n",
    "lga_cases_total_df = lga_cases_total[[\"lga\", \"total_cases\"]].copy()\n",
    "SHP_PATH = \"./data/nsw-lga-boundaries/nsw-lga-boundaries.shp\"  # source: https://data.peclet.com.au/explore/dataset/nsw-lga-boundaries/export/?location=6,-30.58118,150.15015&basemap=jawg.streets\n",
    "geodf = gpd.read_file(SHP_PATH)\n",
    "\n",
    "# align lga names in geodf\n",
    "geodf_lgas = set(geodf.abb_name)\n",
    "covid_df_lgas = set(lga_cases_total_df.lga)\n",
    "\n",
    "lgas_in_geo_not_covid = geodf_lgas - covid_df_lgas\n",
    "lgas_in_covid_not_geo = covid_df_lgas - geodf_lgas\n",
    "\n",
    "sorted(lgas_in_geo_not_covid), sorted(lgas_in_covid_not_geo)\n"
   ]
  },
  {
   "cell_type": "code",
   "execution_count": null,
   "metadata": {},
   "outputs": [],
   "source": [
    "# manually map lga names\n",
    "geo_to_covid_mapping_dict = {\n",
    "    \"Greater Hume\": \"Greater Hume Shire\",\n",
    "    \"Nambucca Valley\": \"Nambucca\",\n",
    "    \"Sutherland\": \"Sutherland Shire\",\n",
    "    \"The Hills\": \"The Hills Shire\",\n",
    "    \"Upper Hunter\": \"Upper Hunter Shire\",\n",
    "    \"Upper Lachlan\": \"Upper Lachlan Shire\",\n",
    "    \"Warrumbungle\": \"Warrumbungle Shire\",\n",
    "    \"Unincorporated - Far West Area\": \"Unincorporated NSW\",\n",
    "}\n",
    "\n",
    "geodf.abb_name = geodf.abb_name.replace(geo_to_covid_mapping_dict)\n",
    "lgas_in_geo_not_covid = set(geodf.abb_name) - covid_df_lgas\n",
    "lgas_in_covid_not_geo = covid_df_lgas - set(geodf.abb_name)\n",
    "\n",
    "sorted(lgas_in_geo_not_covid), sorted(lgas_in_covid_not_geo)\n"
   ]
  },
  {
   "cell_type": "code",
   "execution_count": null,
   "metadata": {},
   "outputs": [],
   "source": [
    "lga_cases_total_df.columns = [\"abb_name\", \"cases_count\"]\n",
    "merged = geodf.merge(lga_cases_total_df, how=\"left\")\n",
    "\n",
    "# merged.plot(column=\"cases_count\", cmap=\"OrRd\", legend=True, figsize=(20, 10))\n",
    "fig, ax = plt.subplots(figsize=(20, 10))\n",
    "ax.axis(\"off\")\n",
    "fig.set_facecolor(\"#333333\")\n",
    "merged.plot(column=\"cases_count\", cmap=\"OrRd\", legend=True, ax=ax)\n",
    "ax.set_title(\"Total COVID Cases by LGA (NSW)\", color=\"white\")\n",
    "\n",
    "formatter = ticker.StrMethodFormatter(\"{x:,.0f}\")\n",
    "cax = fig.axes[-1]\n",
    "cax.yaxis.set_major_formatter(formatter)\n",
    "cax.tick_params(labelcolor=\"white\")\n",
    "\n",
    "plt.show()\n"
   ]
  },
  {
   "cell_type": "markdown",
   "metadata": {},
   "source": [
    "#### Cases over time in LGAs\n"
   ]
  },
  {
   "cell_type": "code",
   "execution_count": null,
   "metadata": {
    "scrolled": true
   },
   "outputs": [],
   "source": [
    "from datetime import datetime\n",
    "\n",
    "daily_by_lga = pd.read_sql_query(\n",
    "    \"\"\"\n",
    "        SELECT DATE(notification_date) AS 'date',\n",
    "            lga,\n",
    "            SUM(confirmed_cases_count) AS 'daily_cases'\n",
    "        FROM covid\n",
    "        WHERE lga COLLATE NOCASE NOT IN (\n",
    "            'hotel quarantine', 'correctional settings'\n",
    "        )\n",
    "        GROUP BY lga, date\n",
    "    \"\"\",\n",
    "    engine,\n",
    ")\n",
    "\n",
    "daily_by_lga[\"date\"] = pd.to_datetime(daily_by_lga[\"date\"], format=\"%Y-%m-%d\")\n",
    "\n",
    "\n",
    "def plot_and_colour_lga(lga_name, line_colour, year_month=None):\n",
    "    filtered_df = filter_by_lga_and_month(lga_name)[0]\n",
    "    year_month_formatted = filter_by_lga_and_month(lga_name, year_month)[1]\n",
    "\n",
    "    fig, ax = plt.subplots(figsize=(16, 7))\n",
    "    ax = sns.lineplot(\n",
    "        x=\"date\",\n",
    "        y=\"daily_cases\",\n",
    "        data=daily_by_lga,\n",
    "        hue=\"lga\",\n",
    "        palette=sns.color_palette([\".7\"], len(daily_by_lga.lga.unique())),\n",
    "        legend=False,\n",
    "        linewidth=0.2,\n",
    "    )\n",
    "    ax = sns.lineplot(\n",
    "        x=\"date\",\n",
    "        y=\"daily_cases\",\n",
    "        data=filtered_df,\n",
    "        color=line_colour,\n",
    "        linewidth=2,\n",
    "        alpha=0.8,\n",
    "    )\n",
    "\n",
    "    # format figure labels\n",
    "    ax.figure.suptitle(f\"Reported COVID Cases in {lga_name} LGA\", fontsize=18)\n",
    "    ax.set_title(f\"{start_date} to {end_date}\", y=1.02, style=\"italic\")\n",
    "    ax.set_ylabel(\"Reported Cases\", fontsize=13, labelpad=20)\n",
    "    ax.set_xlabel(None)\n",
    "    fig.subplots_adjust(top=0.89)\n",
    "\n",
    "    # format x-axis ticks and tick labels\n",
    "    ax.xaxis.set_minor_locator(md.MonthLocator(bymonth=range(13)))\n",
    "    ax.xaxis.set_minor_formatter(md.DateFormatter(\"%b\"))\n",
    "    ax.xaxis.set_major_locator(\n",
    "        md.YearLocator(month=7, day=2)\n",
    "    )  # this ensures the year label is in the centre of the months\n",
    "    ax.xaxis.set_major_formatter(md.DateFormatter(\"\\n\\n%Y\"))\n",
    "    plt.setp(ax.xaxis.get_minorticklabels(), rotation=90)\n",
    "    ax.tick_params(axis=\"both\", labelsize=12)\n",
    "\n",
    "    plt.show()\n",
    "    plt.clf()\n",
    "\n",
    "    # display DataFrame, with optional `year_month` filtering\n",
    "    date_filtered_print = (\n",
    "        f\" in {year_month_formatted}\" if year_month is not None else \"\"\n",
    "    )\n",
    "    print(f\"{lga_name} LGA's highest daily cases{date_filtered_print}:\")\n",
    "\n",
    "    display(\n",
    "        filter_by_lga_and_month(lga_name, year_month)[0]\n",
    "        .sort_values(\"daily_cases\", ascending=False)\n",
    "        .reset_index(drop=True)\n",
    "    )\n",
    "\n",
    "\n",
    "def filter_by_lga_and_month(lga_name, year_month=None):\n",
    "    filtered_df = daily_by_lga[daily_by_lga.lga == lga_name]\n",
    "    if year_month is None:\n",
    "        return filtered_df, \"\"\n",
    "    else:\n",
    "        year_month_formatted = datetime.strptime(year_month, \"%Y-%m\").strftime(\"%b %Y\")\n",
    "        date_filtered_df = filtered_df[\n",
    "            filtered_df.date.dt.strftime(\"%Y-%m\") == year_month\n",
    "        ]\n",
    "        return date_filtered_df, year_month_formatted\n"
   ]
  },
  {
   "cell_type": "markdown",
   "metadata": {},
   "source": [
    "##### Since the first \"Omicron\" wave, Blacktown LGA has largely led daily cases...\n",
    "\n",
    "As the leader of daily cases, Blacktown LGA has consistently had high reported cases throughout the reporting period. Since the \"Omicron\" wave in early 2022, Blacktown LGA has mostly led reported cases, peaking on 6 Jan 2022 with 2800+ daily cases.\n",
    "\n",
    "But, during the \"Delta\" wave in Sep/Oct 2021, Blacktown LGA was not the leader in reported cases...\n"
   ]
  },
  {
   "cell_type": "code",
   "execution_count": null,
   "metadata": {
    "scrolled": true
   },
   "outputs": [],
   "source": [
    "plot_and_colour_lga(\"Blacktown\", \"#bc5090\")\n"
   ]
  },
  {
   "cell_type": "markdown",
   "metadata": {},
   "source": [
    "##### During the \"Delta\" wave, Canterbury-Bankstown largely led daily cases...\n",
    "\n",
    "Canterbury-Bankstown was leading daily cases during NSW's \"Delta\" variant wave in Aug to Oct 2021, peaking at 302 cases on 8 Sep 2021.\n"
   ]
  },
  {
   "cell_type": "code",
   "execution_count": null,
   "metadata": {
    "scrolled": true
   },
   "outputs": [],
   "source": [
    "plot_and_colour_lga(\"Canterbury-Bankstown\", \"#6d2f7c\", \"2021-09\")\n"
   ]
  },
  {
   "cell_type": "markdown",
   "metadata": {},
   "source": [
    "## Conclusion\n",
    "\n",
    "In this project, I have analysed and highlighted insights in NSW Health's dataset on reported COVID cases in NSW, including:\n",
    "\n",
    "- Daily case numbers over time, and patterns throughout the week\n",
    "- \"Zero\" days' distribution, and patterns throughout the week\n",
    "- Reported cases in Local Government Areas (LGAs), aggregated and time-series, focusing on the Delta and Omicron variants' impact on specific LGAs\n",
    "\n",
    "Thank you for reviewing my project! If you have any questions, comments, feedback, please add as a [GitHub Issue](https://github.com/henrylin03/covid-nsw/issues), and I will respond as soon as I can.\n"
   ]
  }
 ],
 "metadata": {
  "kernelspec": {
   "display_name": "Python 3",
   "language": "python",
   "name": "python3"
  },
  "language_info": {
   "codemirror_mode": {
    "name": "ipython",
    "version": 3
   },
   "file_extension": ".py",
   "mimetype": "text/x-python",
   "name": "python",
   "nbconvert_exporter": "python",
   "pygments_lexer": "ipython3",
   "version": "3.11.0"
  },
  "vscode": {
   "interpreter": {
    "hash": "4bbabb2e14381c2a3fd400d4a398a4d99a8115d5ebe447e08567e31523f39dbc"
   }
  }
 },
 "nbformat": 4,
 "nbformat_minor": 4
}
