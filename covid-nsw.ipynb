{
 "cells": [
  {
   "cell_type": "markdown",
   "metadata": {},
   "source": [
    "# covid-nsw\n",
    "Driven by SQL, I explore [NSW COVID-19 cases by location](https://data.nsw.gov.au/search/dataset/ds-nsw-ckan-aefcde60-3b0c-4bc0-9af1-6fe652944ec2/details?q=)."
   ]
  },
  {
   "cell_type": "markdown",
   "metadata": {},
   "source": [
    "## Setup"
   ]
  },
  {
   "cell_type": "markdown",
   "metadata": {},
   "source": [
    "Create SQL engine and load input CSV into a SQLite table:"
   ]
  },
  {
   "cell_type": "code",
   "execution_count": 1,
   "metadata": {},
   "outputs": [
    {
     "data": {
      "text/html": [
       "<div>\n",
       "<style scoped>\n",
       "    .dataframe tbody tr th:only-of-type {\n",
       "        vertical-align: middle;\n",
       "    }\n",
       "\n",
       "    .dataframe tbody tr th {\n",
       "        vertical-align: top;\n",
       "    }\n",
       "\n",
       "    .dataframe thead th {\n",
       "        text-align: right;\n",
       "    }\n",
       "</style>\n",
       "<table border=\"1\" class=\"dataframe\">\n",
       "  <thead>\n",
       "    <tr style=\"text-align: right;\">\n",
       "      <th></th>\n",
       "      <th>notification_date</th>\n",
       "      <th>postcode</th>\n",
       "      <th>lhd_2010_code</th>\n",
       "      <th>lhd_2010_name</th>\n",
       "      <th>lga_code19</th>\n",
       "      <th>lga_name19</th>\n",
       "      <th>confirmed_by_pcr</th>\n",
       "      <th>confirmed_cases_count</th>\n",
       "    </tr>\n",
       "  </thead>\n",
       "  <tbody>\n",
       "    <tr>\n",
       "      <th>0</th>\n",
       "      <td>2020-01-25</td>\n",
       "      <td>2071</td>\n",
       "      <td>X760</td>\n",
       "      <td>Northern Sydney</td>\n",
       "      <td>14500</td>\n",
       "      <td>Ku-ring-gai (A)</td>\n",
       "      <td>NaN</td>\n",
       "      <td>1</td>\n",
       "    </tr>\n",
       "    <tr>\n",
       "      <th>1</th>\n",
       "      <td>2020-01-25</td>\n",
       "      <td>2121</td>\n",
       "      <td>X760</td>\n",
       "      <td>Northern Sydney</td>\n",
       "      <td>16260</td>\n",
       "      <td>Parramatta (C)</td>\n",
       "      <td>NaN</td>\n",
       "      <td>1</td>\n",
       "    </tr>\n",
       "    <tr>\n",
       "      <th>2</th>\n",
       "      <td>2020-01-25</td>\n",
       "      <td>2134</td>\n",
       "      <td>X700</td>\n",
       "      <td>Sydney</td>\n",
       "      <td>11300</td>\n",
       "      <td>Burwood (A)</td>\n",
       "      <td>NaN</td>\n",
       "      <td>1</td>\n",
       "    </tr>\n",
       "  </tbody>\n",
       "</table>\n",
       "</div>"
      ],
      "text/plain": [
       "  notification_date postcode lhd_2010_code    lhd_2010_name lga_code19  \\\n",
       "0        2020-01-25     2071          X760  Northern Sydney      14500   \n",
       "1        2020-01-25     2121          X760  Northern Sydney      16260   \n",
       "2        2020-01-25     2134          X700           Sydney      11300   \n",
       "\n",
       "        lga_name19 confirmed_by_pcr  confirmed_cases_count  \n",
       "0  Ku-ring-gai (A)              NaN                      1  \n",
       "1   Parramatta (C)              NaN                      1  \n",
       "2      Burwood (A)              NaN                      1  "
      ]
     },
     "execution_count": 1,
     "metadata": {},
     "output_type": "execute_result"
    }
   ],
   "source": [
    "from glob import glob\n",
    "import pandas as pd\n",
    "from sqlalchemy import create_engine\n",
    "\n",
    "engine = create_engine(\"sqlite://\", echo=False)\n",
    "\n",
    "covid_df = pd.read_csv(glob(\"./input/confirmed_cases*.csv\")[0])\n",
    "covid_df.to_sql(\"covid\", engine, if_exists=\"replace\", index=False)\n",
    "covid_df.head(3)\n"
   ]
  },
  {
   "cell_type": "markdown",
   "metadata": {},
   "source": [
    "## Cleaning"
   ]
  },
  {
   "cell_type": "markdown",
   "metadata": {},
   "source": [
    "### Missing\n",
    "There are missing values in both `postcode` and `confirmed_by_pcr` columns:"
   ]
  },
  {
   "cell_type": "code",
   "execution_count": 2,
   "metadata": {
    "tags": [
     "hide-input"
    ]
   },
   "outputs": [
    {
     "data": {
      "text/html": [
       "<div>\n",
       "<style scoped>\n",
       "    .dataframe tbody tr th:only-of-type {\n",
       "        vertical-align: middle;\n",
       "    }\n",
       "\n",
       "    .dataframe tbody tr th {\n",
       "        vertical-align: top;\n",
       "    }\n",
       "\n",
       "    .dataframe thead th {\n",
       "        text-align: right;\n",
       "    }\n",
       "</style>\n",
       "<table border=\"1\" class=\"dataframe\">\n",
       "  <thead>\n",
       "    <tr style=\"text-align: right;\">\n",
       "      <th></th>\n",
       "      <th>nd_miss</th>\n",
       "      <th>pc_miss</th>\n",
       "      <th>lhdc_miss</th>\n",
       "      <th>lhdn_miss</th>\n",
       "      <th>lgac_miss</th>\n",
       "      <th>lgan_miss</th>\n",
       "      <th>pcr_miss</th>\n",
       "      <th>confirmed_cases_miss</th>\n",
       "    </tr>\n",
       "  </thead>\n",
       "  <tbody>\n",
       "    <tr>\n",
       "      <th>0</th>\n",
       "      <td>0</td>\n",
       "      <td>530</td>\n",
       "      <td>0</td>\n",
       "      <td>0</td>\n",
       "      <td>0</td>\n",
       "      <td>0</td>\n",
       "      <td>41075</td>\n",
       "      <td>0</td>\n",
       "    </tr>\n",
       "  </tbody>\n",
       "</table>\n",
       "</div>"
      ],
      "text/plain": [
       "   nd_miss  pc_miss  lhdc_miss  lhdn_miss  lgac_miss  lgan_miss  pcr_miss  \\\n",
       "0        0      530          0          0          0          0     41075   \n",
       "\n",
       "   confirmed_cases_miss  \n",
       "0                     0  "
      ]
     },
     "execution_count": 2,
     "metadata": {},
     "output_type": "execute_result"
    }
   ],
   "source": [
    "pd.read_sql_query(\n",
    "    \"\"\"\n",
    "    SELECT SUM(CASE WHEN notification_date IS NULL THEN 1 ELSE 0 END) AS 'nd_miss',\n",
    "        SUM(CASE WHEN postcode IS 'None' THEN 1 ELSE 0 END) AS 'pc_miss',\n",
    "        SUM(CASE WHEN lhd_2010_code IS  NULL THEN 1 ELSE 0 END) AS 'lhdc_miss',\n",
    "        SUM(CASE WHEN lhd_2010_name IS NULL THEN 1 ELSE 0 END) AS 'lhdn_miss',\n",
    "        SUM(CASE WHEN lga_code19 IS NULL THEN 1 ELSE 0 END) AS 'lgac_miss',\n",
    "        SUM(CASE WHEN lga_name19 IS NULL THEN 1 ELSE 0 END) AS 'lgan_miss',\n",
    "        SUM(CASE WHEN confirmed_by_pcr IS NULL THEN 1 ELSE 0 END) AS 'pcr_miss',\n",
    "        SUM(CASE WHEN confirmed_cases_count IS NULL THEN 1 ELSE 0 END) AS 'confirmed_cases_miss'\n",
    "    FROM covid\n",
    "\"\"\",\n",
    "    engine,\n",
    ")\n"
   ]
  },
  {
   "cell_type": "markdown",
   "metadata": {},
   "source": [
    "Although Local Government Area (LGA) information is not missing for rows with missing `postcode`, `postcode` is nevertheless difficult to impute as there can be multiple postcodes in an LGA (1:M).\n",
    "\n",
    "Similarly, `confirmed_by_pcr` is difficult to impute. It records whether a case detected by Rapid Antigen Tests (RAT), reported to NSW Health, was also confirmed by PCR. All missing values were prior to 19 Jan 2022 and would be difficult to impute."
   ]
  },
  {
   "cell_type": "code",
   "execution_count": 3,
   "metadata": {},
   "outputs": [
    {
     "data": {
      "text/html": [
       "<div>\n",
       "<style scoped>\n",
       "    .dataframe tbody tr th:only-of-type {\n",
       "        vertical-align: middle;\n",
       "    }\n",
       "\n",
       "    .dataframe tbody tr th {\n",
       "        vertical-align: top;\n",
       "    }\n",
       "\n",
       "    .dataframe thead th {\n",
       "        text-align: right;\n",
       "    }\n",
       "</style>\n",
       "<table border=\"1\" class=\"dataframe\">\n",
       "  <thead>\n",
       "    <tr style=\"text-align: right;\">\n",
       "      <th></th>\n",
       "      <th>latest_pcr_miss_date</th>\n",
       "    </tr>\n",
       "  </thead>\n",
       "  <tbody>\n",
       "    <tr>\n",
       "      <th>0</th>\n",
       "      <td>2022-01-19</td>\n",
       "    </tr>\n",
       "  </tbody>\n",
       "</table>\n",
       "</div>"
      ],
      "text/plain": [
       "  latest_pcr_miss_date\n",
       "0           2022-01-19"
      ]
     },
     "execution_count": 3,
     "metadata": {},
     "output_type": "execute_result"
    }
   ],
   "source": [
    "pd.read_sql_query(\n",
    "    \"\"\"\n",
    "        SELECT MAX(notification_date) AS 'latest_pcr_miss_date'\n",
    "        FROM covid\n",
    "        WHERE confirmed_by_pcr IS NULL\n",
    "    \"\"\",\n",
    "    engine,\n",
    ")\n"
   ]
  },
  {
   "cell_type": "markdown",
   "metadata": {},
   "source": [
    "## Analysis\n",
    "In this section, I use SQL queries and Python visualisations to highlight insights in the data."
   ]
  },
  {
   "cell_type": "markdown",
   "metadata": {},
   "source": [
    "### Daily Cases\n",
    "Daily reported cases have overall trended upwards since reporting started on 25 Jan 2020. Daily cases peaked in Jan 2022, and then, less so, in Mar 2022. "
   ]
  },
  {
   "cell_type": "code",
   "execution_count": null,
   "metadata": {
    "scrolled": true,
    "tags": [
     "hide-input"
    ]
   },
   "outputs": [],
   "source": [
    "import matplotlib.pyplot as plt\n",
    "import matplotlib.dates as md\n",
    "import seaborn as sns\n",
    "\n",
    "# querying\n",
    "daily_cases = pd.read_sql_query(\n",
    "    \"\"\"\n",
    "        SELECT DATE(notification_date) AS 'date',\n",
    "            SUM(confirmed_cases_count) AS 'reported_cases'\n",
    "        FROM covid\n",
    "        GROUP BY 1\n",
    "    \"\"\",\n",
    "    engine,\n",
    ")\n",
    "\n",
    "# transforming and extracting from DataFrame for visualisation\n",
    "daily_cases[\"date\"] = pd.to_datetime(daily_cases[\"date\"], format=\"%Y-%m-%d\")\n",
    "start_date = daily_cases.date.min().strftime(\"%d %b %Y\")\n",
    "end_date = daily_cases.date.max().strftime(\"%d %b %Y\")\n",
    "\n",
    "# plotting visualisation\n",
    "sns.set_style(\"dark\")\n",
    "sns.set_palette(\"bright\")\n",
    "\n",
    "fig, ax = plt.subplots(figsize=(11, 8))\n",
    "sns.lineplot(x=\"date\", y=\"reported_cases\", data=daily_cases, ax=ax)\n",
    "plt.fill_between(x=daily_cases[\"date\"], \n",
    "                 y1=daily_cases[\"reported_cases\"], \n",
    "                 alpha=0.2)\n",
    "\n",
    "# setting x-axis ticks\n",
    "ax.xaxis.set_major_locator(md.MonthLocator(bymonthday=1))\n",
    "ax.xaxis.set_major_formatter(md.DateFormatter(\"%b-%Y\"))\n",
    "plt.setp(ax.xaxis.get_majorticklabels(), rotation=90)\n",
    "ax.tick_params(axis=\"both\", labelsize=12)\n",
    "\n",
    "# modifying line-chart parameters\n",
    "ax.figure.suptitle(\"Reported COVID Cases in NSW\", fontsize=18)\n",
    "ax.set_title(f\"{start_date} to {end_date}\", y=1.02, style=\"italic\")\n",
    "ax.set_xlabel(\"Date\", fontsize=13, labelpad=20)\n",
    "ax.set_ylabel(\"Reported Cases\", fontsize=13, labelpad=20)\n",
    "\n",
    "fig.subplots_adjust(top=0.89)\n",
    "\n",
    "plt.show()\n",
    "plt.clf()\n",
    "\n",
    "\n",
    "### COULD LABEL THIS WITH ANNOTATIONS OF THE ALL OF THE WAVES!"
   ]
  },
  {
   "cell_type": "markdown",
   "metadata": {},
   "source": [
    "Drilling down, we see that the **10 highest daily reported cases all occurred in January 2022.** 11th to 16th highest are in the smaller, March 2022 spike in the line chart above."
   ]
  },
  {
   "cell_type": "code",
   "execution_count": null,
   "metadata": {},
   "outputs": [],
   "source": [
    "pd.read_sql_query(\n",
    "    \"\"\"\n",
    "    SELECT\n",
    "        RANK() OVER (\n",
    "            ORDER BY SUM(confirmed_cases_count) DESC\n",
    "        ) AS 'rank',\n",
    "        DATE(notification_date) AS 'date',\n",
    "        STRFTIME('%m-%Y', notification_date) AS 'month_year',\n",
    "        SUM(confirmed_cases_count) AS 'reported_cases'\n",
    "    FROM covid\n",
    "    GROUP BY 2\n",
    "    ORDER BY 4 DESC\n",
    "    LIMIT 20\n",
    "\"\"\",\n",
    "    engine,\n",
    ")\n"
   ]
  },
  {
   "cell_type": "markdown",
   "metadata": {},
   "source": [
    "#### \"Zero\" days\n",
    "Since reporting began, there have been days with no COVID cases reported to NSW Health. \n",
    "\n",
    "We can see from the below query that:\n",
    "* February 2020 was an entire _month_ of zero days\n",
    "* Since 12 June 2021, there have been no zero days"
   ]
  },
  {
   "cell_type": "code",
   "execution_count": null,
   "metadata": {
    "scrolled": true
   },
   "outputs": [],
   "source": [
    "zero_days_df = pd.read_sql_query(\n",
    "    \"\"\"\n",
    "        WITH RECURSIVE dates(date) AS (\n",
    "            VALUES((\n",
    "                SELECT MIN(notification_date)\n",
    "                FROM covid\n",
    "                )\n",
    "            )\n",
    "            UNION ALL\n",
    "            SELECT DATE(date, '+1 day')\n",
    "            FROM dates\n",
    "            WHERE date < (\n",
    "                SELECT MAX(notification_date)\n",
    "                FROM covid\n",
    "                )\n",
    "            )\n",
    "\n",
    "        SELECT\n",
    "            ROW_NUMBER() OVER (\n",
    "                ORDER BY d.date\n",
    "            ) AS 'row_num',\n",
    "            d.*\n",
    "        FROM dates d\n",
    "        LEFT JOIN covid c\n",
    "            ON c.notification_date = d.date\n",
    "        WHERE c.notification_date IS NULL\n",
    "        ORDER BY 1\n",
    "        \"\"\",\n",
    "    engine,\n",
    ")\n",
    "\n",
    "zero_days_df.to_sql(\"zero_days\", engine, if_exists=\"replace\", index=False)\n",
    "zero_days_df\n"
   ]
  },
  {
   "cell_type": "code",
   "execution_count": null,
   "metadata": {
    "scrolled": false
   },
   "outputs": [],
   "source": [
    "pd.read_sql_query(\n",
    "    \"\"\"\n",
    "    SELECT STRFTIME('%Y-%m', date) AS 'year_month',\n",
    "        COUNT(*) AS 'zero_days_count'\n",
    "    FROM zero_days\n",
    "    GROUP BY 1\n",
    "    ORDER BY 1\n",
    "\"\"\",\n",
    "    engine,\n",
    ")\n"
   ]
  },
  {
   "cell_type": "code",
   "execution_count": null,
   "metadata": {},
   "outputs": [],
   "source": [
    "### testing section"
   ]
  },
  {
   "cell_type": "code",
   "execution_count": null,
   "metadata": {},
   "outputs": [],
   "source": [
    "### wanting to use this table of union dates, and status of cases present to calc \"days since last zero_day\"\n",
    "zero_nzero_days_union =\\\n",
    "    pd.read_sql_query(\"\"\"\n",
    "        select date, 'n' AS 'cases_yn'\n",
    "        from zero_days \n",
    "        union\n",
    "        select notification_date, 'y' AS 'cases_yn' \n",
    "        from covid\n",
    "    \"\"\", engine)\n",
    "\n",
    "zero_nzero_days_union"
   ]
  },
  {
   "cell_type": "code",
   "execution_count": null,
   "metadata": {},
   "outputs": [],
   "source": [
    "from IPython.display import Markdown\n",
    "\n",
    "days_since_last_zd =\\\n",
    "    pd.read_sql_query(\"\"\"\n",
    "        SELECT\n",
    "            MAX(date) AS 'last_zero_day',\n",
    "            MAX(notification_date) AS 'latest_reporting_date',\n",
    "            JULIANDAY(MAX(date)) - JULIANDAY(MAX(notification_date)) AS 'days_diff'\n",
    "        FROM (\n",
    "            SELECT \n",
    "            \n",
    "            date, notification_date\n",
    "            FROM covid c\n",
    "            LEFT JOIN zero_days z\n",
    "                ON DATE(c.notification_date) = DATE(z.date)\n",
    "        )\n",
    "        \"\"\", engine)\n",
    "\n",
    "# display(Markdown(f\"Days since the last 'zero day' is: \"))\n",
    "\n",
    "days_since_last_zd"
   ]
  },
  {
   "cell_type": "code",
   "execution_count": null,
   "metadata": {},
   "outputs": [],
   "source": [
    "### Calculating streaks"
   ]
  },
  {
   "cell_type": "code",
   "execution_count": null,
   "metadata": {},
   "outputs": [],
   "source": [
    "### Calculating difference in days from the current zero_day to the last\n",
    "pd.read_sql_query(\"\"\"\n",
    "    select *\n",
    "    from (\n",
    "        select date, \n",
    "            julianday(date) - \n",
    "                julianday(\n",
    "                    lag(date) OVER (\n",
    "                        ORDER BY date\n",
    "                    )\n",
    "                ) as date_dif\n",
    "        from zero_days z\n",
    "    ) zz\n",
    "\"\"\", engine)\n",
    "### can use this table to highlight the longest gaps since last zero day\n",
    "### can then try and find streaks by adding together \"date_dif\" but only if the previous day was also a '1'\n",
    "\n",
    "\n",
    "# pd.read_sql_query(\"\"\"\n",
    "#     SELECT z.row_num, date,\n",
    "#         SUM(\n",
    "#             CASE WHEN EXISTS (\n",
    "#                 SELECT 1\n",
    "#                 FROM zero_days\n",
    "#                 WHERE \n",
    "#                     row_num = z.row_num AND\n",
    "#                     JULIANDAY(date) - JULIANDAY(z.date) = 1\n",
    "#             ) THEN 1 ELSE 0 END\n",
    "#         ) AS 'streak'\n",
    "#     FROM zero_days z\n",
    "#     GROUP BY z.row_num\n",
    "# \"\"\", engine)"
   ]
  },
  {
   "cell_type": "code",
   "execution_count": null,
   "metadata": {},
   "outputs": [],
   "source": [
    "### below is from previous version of the ipynb"
   ]
  },
  {
   "cell_type": "markdown",
   "metadata": {},
   "source": [
    "### Geographic"
   ]
  },
  {
   "cell_type": "markdown",
   "metadata": {},
   "source": [
    "#### \"Greater Sydney\"\n",
    "The original dataset reports on *all* LGAs in NSW. In order to limit by \"Greater Sydney\", where needed, we will prepare a table that lists Greater Sydney LGAs.\n",
    "\n",
    "Although there are some definition differences, we use the \"Greater Sydney\" LGAs as exhaustively defined in the COVID rules, published by the [NSW Government](https://www.nsw.gov.au/covid-19/stay-safe/protecting/advice-high-risk-groups/disability/local-councils-greater-sydney) and referenced in press conferences and media updates."
   ]
  },
  {
   "cell_type": "markdown",
   "metadata": {},
   "source": [
    "##### Importing, inspecting & cleaning\n",
    "We will import & inspect a CSV that lists Greater Sydney LGAs, published by [NSW Government](https://www.nsw.gov.au/covid-19/stay-safe/protecting/advice-high-risk-groups/disability/local-councils-greater-sydney)."
   ]
  },
  {
   "cell_type": "code",
   "execution_count": null,
   "metadata": {
    "scrolled": true
   },
   "outputs": [],
   "source": [
    "greater_sydney_lgas_df = pd.read_csv(\"input/greater_sydney_lgas.csv\")\n",
    "\n",
    "greater_sydney_lgas_df.to_sql(\"greater_sydney_lgas\", engine, if_exists=\"replace\")\n",
    "\n",
    "greater_sydney_lgas_df\n"
   ]
  },
  {
   "cell_type": "markdown",
   "metadata": {},
   "source": [
    "The LGA names in `greater_sydney_lgas` need to align with our main table, `covid_nsw_2`.\n",
    "\n",
    "We will need to `LEFT JOIN` the two tables and identify LGAs in `greater_sydney_lgas` but not in `covid_nsw_2`. These will be the LGAs in Greater Sydney that will need to have their names amended to match those in `covid_nsw_2`."
   ]
  },
  {
   "cell_type": "code",
   "execution_count": null,
   "metadata": {
    "scrolled": true
   },
   "outputs": [],
   "source": [
    "pd.read_sql_query(\"\"\"SELECT DISTINCT lga_name\n",
    "                     FROM greater_sydney_lgas g\n",
    "                     LEFT JOIN covid_nsw_2 c\n",
    "                         ON g.lga_name = c.lga\n",
    "                     WHERE lga IS NULL\"\"\", engine)"
   ]
  },
  {
   "cell_type": "markdown",
   "metadata": {},
   "source": [
    "Finding the way that `covid_nsw_2` refers to the identified Greater Sydney LGAs above:"
   ]
  },
  {
   "cell_type": "code",
   "execution_count": null,
   "metadata": {},
   "outputs": [],
   "source": [
    "pd.read_sql_query(\"\"\"SELECT DISTINCT lga \n",
    "                     FROM covid_nsw_2\n",
    "                     WHERE lga LIKE 'Hunter%'\n",
    "                         OR lga LIKE '%Hills%'\n",
    "                     ORDER BY 1 DESC\"\"\", engine)"
   ]
  },
  {
   "cell_type": "markdown",
   "metadata": {},
   "source": [
    "Updating the `greater_sydney_lgas` table to ensure it has the names in `covid_nsw_2`:\n",
    "\n",
    "*NB: with `sqlalchemy`, both `UPDATE` and `CREATE TABLE` produce 'ResourceClosedError: This result object does not return rows. It has been closed automatically.' ([Source](https://github.com/sqlalchemy/sqlalchemy/issues/5433)). Thus, instead, we are using `UNION` so that later analysis can use `IN` for this table.*"
   ]
  },
  {
   "cell_type": "code",
   "execution_count": null,
   "metadata": {
    "scrolled": true
   },
   "outputs": [],
   "source": [
    "greater_sydney_lgas_df_2 = pd.read_sql_query(\"\"\"SELECT lga_name\n",
    "                                             FROM greater_sydney_lgas\n",
    "                                             UNION\n",
    "                                             SELECT DISTINCT lga \n",
    "                                             FROM covid_nsw_2\n",
    "                                             WHERE lga LIKE 'Hunter%'\n",
    "                                                 OR lga LIKE '%Hills%'\n",
    "                                             ORDER BY 1\"\"\", engine)\n",
    "\n",
    "greater_sydney_lgas_df_2.to_sql('greater_sydney_lgas', engine, if_exists='replace', index=False)\n",
    "\n",
    "pd.read_sql_query(\"\"\"SELECT *\n",
    "                     FROM greater_sydney_lgas\"\"\", engine)"
   ]
  },
  {
   "cell_type": "markdown",
   "metadata": {},
   "source": [
    "#### LGAs\n",
    "##### NSW - Top 10"
   ]
  },
  {
   "cell_type": "code",
   "execution_count": null,
   "metadata": {
    "scrolled": true
   },
   "outputs": [],
   "source": [
    "pd.read_sql_query(\"\"\"SELECT lga,\n",
    "                         COUNT(*) cases\n",
    "                     FROM covid_nsw_2\n",
    "                     GROUP BY 1\n",
    "                     ORDER BY 2 DESC\n",
    "                     LIMIT 10\"\"\", engine)"
   ]
  },
  {
   "cell_type": "markdown",
   "metadata": {},
   "source": [
    "#####  Greater Sydney - ranked"
   ]
  },
  {
   "cell_type": "code",
   "execution_count": null,
   "metadata": {},
   "outputs": [],
   "source": [
    "pd.read_sql_query(\"\"\"SELECT lga,\n",
    "                         COUNT(*) cases\n",
    "                     FROM covid_nsw_2\n",
    "                     WHERE lga IN (\n",
    "                         SELECT *\n",
    "                         FROM greater_sydney_lgas\n",
    "                     )\n",
    "                     GROUP BY 1\n",
    "                     ORDER BY 2 DESC\"\"\", engine)"
   ]
  },
  {
   "cell_type": "markdown",
   "metadata": {},
   "source": [
    "##### Total reported cases, during \"Delta\" - top 10 in NSW - compared with pre-\"Delta\" total cases\n",
    "Although unclear of the exact date, the \"Delta\" wave (also known as Australia's 3rd wave, and NSW's 2nd wave), this likely began on or around 18 June 2021.\n",
    "\n",
    "Source 1: [ABC News 2021a, 'Outbreak, How Australia lost control of the COVID Delta variant | ABC News'](https://www.youtube.com/watch?v=M9MPXCpyCnY&ab_channel=ABCNewsIn-depth)\n",
    "\n",
    "Source 2: [ABC News 2021b, 'NSW Health records additional COVID-19 case, masks mandatory for public transport in Greater Sydney'](https://www.abc.net.au/news/2021-06-18/nsw-records-one-covid-19-case-masks-for-public-transport/100225370)"
   ]
  },
  {
   "cell_type": "code",
   "execution_count": null,
   "metadata": {},
   "outputs": [],
   "source": [
    "pd.read_sql_query(\"\"\"WITH lga_top10_all AS (\n",
    "                         SELECT lga,\n",
    "                             COUNT(*) 'cases'\n",
    "                         FROM covid_nsw_2\n",
    "                         GROUP BY 1\n",
    "                         ORDER BY 2 DESC\n",
    "                         LIMIT 10\n",
    "                     ),\n",
    "                     \n",
    "                     cases_pre_delta AS (\n",
    "                         SELECT lga,\n",
    "                             COUNT(*) 'cases_pre_delta'\n",
    "                         FROM covid_nsw_2\n",
    "                         WHERE notification_date < '2021-06-18'\n",
    "                             AND lga IN\n",
    "                                 (SELECT lga\n",
    "                                  FROM lga_top10_all\n",
    "                                 )\n",
    "                         GROUP BY 1\n",
    "                         ORDER BY 2 DESC\n",
    "                     )\n",
    "                     \n",
    "                     SELECT l.lga,\n",
    "                         c.cases_pre_delta,\n",
    "                         (l.cases - c.cases_pre_delta) 'cases_post_delta',\n",
    "                         l.cases 'cases_total'\n",
    "                     FROM lga_top10_all l\n",
    "                     LEFT JOIN cases_pre_delta c\n",
    "                         ON l.lga = c.lga\n",
    "                     ORDER BY 4 DESC\"\"\", engine)"
   ]
  },
  {
   "cell_type": "markdown",
   "metadata": {},
   "source": [
    "##### No reported cases"
   ]
  },
  {
   "cell_type": "code",
   "execution_count": null,
   "metadata": {},
   "outputs": [],
   "source": [
    "pd.read_sql_query(\"\"\"SELECT DISTINCT lga\n",
    "                     FROM postcode_to_lga\n",
    "                     WHERE lga NOT IN (\n",
    "                         SELECT lga\n",
    "                         FROM covid_nsw_2\n",
    "                         )\n",
    "                     ORDER BY 1\"\"\", engine)"
   ]
  }
 ],
 "metadata": {
  "kernelspec": {
   "display_name": "Python 3",
   "language": "python",
   "name": "python3"
  },
  "language_info": {
   "codemirror_mode": {
    "name": "ipython",
    "version": 3
   },
   "file_extension": ".py",
   "mimetype": "text/x-python",
   "name": "python",
   "nbconvert_exporter": "python",
   "pygments_lexer": "ipython3",
   "version": "3.8.8"
  },
  "vscode": {
   "interpreter": {
    "hash": "1215b1aecdd8c83375b241d0c862057777d1b41ed412da38189195d086960e71"
   }
  }
 },
 "nbformat": 4,
 "nbformat_minor": 4
}
