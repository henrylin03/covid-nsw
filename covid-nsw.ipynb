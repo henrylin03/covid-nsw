{
 "cells": [
  {
   "cell_type": "markdown",
   "metadata": {},
   "source": [
    "# covid-nsw\n",
    "\n",
    "Driven by SQL, I explore [NSW COVID-19 cases by location](https://data.nsw.gov.au/search/dataset/ds-nsw-ckan-aefcde60-3b0c-4bc0-9af1-6fe652944ec2/details?q=).\n"
   ]
  },
  {
   "cell_type": "markdown",
   "metadata": {},
   "source": [
    "## Setup\n"
   ]
  },
  {
   "cell_type": "markdown",
   "metadata": {},
   "source": [
    "Create SQL engine and load input CSV into a SQLite table:\n"
   ]
  },
  {
   "cell_type": "code",
   "execution_count": 1,
   "metadata": {},
   "outputs": [
    {
     "data": {
      "text/html": [
       "<div>\n",
       "<style scoped>\n",
       "    .dataframe tbody tr th:only-of-type {\n",
       "        vertical-align: middle;\n",
       "    }\n",
       "\n",
       "    .dataframe tbody tr th {\n",
       "        vertical-align: top;\n",
       "    }\n",
       "\n",
       "    .dataframe thead th {\n",
       "        text-align: right;\n",
       "    }\n",
       "</style>\n",
       "<table border=\"1\" class=\"dataframe\">\n",
       "  <thead>\n",
       "    <tr style=\"text-align: right;\">\n",
       "      <th></th>\n",
       "      <th>notification_date</th>\n",
       "      <th>postcode</th>\n",
       "      <th>lhd_2010_code</th>\n",
       "      <th>lhd_2010_name</th>\n",
       "      <th>lga_code19</th>\n",
       "      <th>lga_name19</th>\n",
       "      <th>confirmed_by_pcr</th>\n",
       "      <th>confirmed_cases_count</th>\n",
       "    </tr>\n",
       "  </thead>\n",
       "  <tbody>\n",
       "    <tr>\n",
       "      <th>0</th>\n",
       "      <td>2020-01-25</td>\n",
       "      <td>2071</td>\n",
       "      <td>X760</td>\n",
       "      <td>Northern Sydney</td>\n",
       "      <td>14500</td>\n",
       "      <td>Ku-ring-gai (A)</td>\n",
       "      <td>NaN</td>\n",
       "      <td>1</td>\n",
       "    </tr>\n",
       "    <tr>\n",
       "      <th>1</th>\n",
       "      <td>2020-01-25</td>\n",
       "      <td>2121</td>\n",
       "      <td>X760</td>\n",
       "      <td>Northern Sydney</td>\n",
       "      <td>16260</td>\n",
       "      <td>Parramatta (C)</td>\n",
       "      <td>NaN</td>\n",
       "      <td>1</td>\n",
       "    </tr>\n",
       "    <tr>\n",
       "      <th>2</th>\n",
       "      <td>2020-01-25</td>\n",
       "      <td>2134</td>\n",
       "      <td>X700</td>\n",
       "      <td>Sydney</td>\n",
       "      <td>11300</td>\n",
       "      <td>Burwood (A)</td>\n",
       "      <td>NaN</td>\n",
       "      <td>1</td>\n",
       "    </tr>\n",
       "  </tbody>\n",
       "</table>\n",
       "</div>"
      ],
      "text/plain": [
       "  notification_date postcode lhd_2010_code    lhd_2010_name lga_code19  \\\n",
       "0        2020-01-25     2071          X760  Northern Sydney      14500   \n",
       "1        2020-01-25     2121          X760  Northern Sydney      16260   \n",
       "2        2020-01-25     2134          X700           Sydney      11300   \n",
       "\n",
       "        lga_name19 confirmed_by_pcr  confirmed_cases_count  \n",
       "0  Ku-ring-gai (A)              NaN                      1  \n",
       "1   Parramatta (C)              NaN                      1  \n",
       "2      Burwood (A)              NaN                      1  "
      ]
     },
     "execution_count": 1,
     "metadata": {},
     "output_type": "execute_result"
    }
   ],
   "source": [
    "from glob import glob\n",
    "import pandas as pd\n",
    "from sqlalchemy import create_engine\n",
    "\n",
    "engine = create_engine(\"sqlite://\", echo=False)\n",
    "\n",
    "covid_df = pd.read_csv(glob(\"./input/confirmed_cases*.csv\")[0])\n",
    "covid_df.to_sql(\"covid\", engine, if_exists=\"replace\", index=False)\n",
    "covid_df.head(3)\n"
   ]
  },
  {
   "cell_type": "markdown",
   "metadata": {},
   "source": [
    "## Cleaning\n"
   ]
  },
  {
   "cell_type": "markdown",
   "metadata": {},
   "source": [
    "### Missing\n",
    "\n",
    "There are missing values in both `postcode` and `confirmed_by_pcr` columns:\n"
   ]
  },
  {
   "cell_type": "code",
   "execution_count": 2,
   "metadata": {
    "tags": [
     "hide-input"
    ]
   },
   "outputs": [
    {
     "data": {
      "text/html": [
       "<div>\n",
       "<style scoped>\n",
       "    .dataframe tbody tr th:only-of-type {\n",
       "        vertical-align: middle;\n",
       "    }\n",
       "\n",
       "    .dataframe tbody tr th {\n",
       "        vertical-align: top;\n",
       "    }\n",
       "\n",
       "    .dataframe thead th {\n",
       "        text-align: right;\n",
       "    }\n",
       "</style>\n",
       "<table border=\"1\" class=\"dataframe\">\n",
       "  <thead>\n",
       "    <tr style=\"text-align: right;\">\n",
       "      <th></th>\n",
       "      <th>nd_miss</th>\n",
       "      <th>pc_miss</th>\n",
       "      <th>lhdc_miss</th>\n",
       "      <th>lhdn_miss</th>\n",
       "      <th>lgac_miss</th>\n",
       "      <th>lgan_miss</th>\n",
       "      <th>pcr_miss</th>\n",
       "      <th>confirmed_cases_miss</th>\n",
       "    </tr>\n",
       "  </thead>\n",
       "  <tbody>\n",
       "    <tr>\n",
       "      <th>0</th>\n",
       "      <td>0</td>\n",
       "      <td>530</td>\n",
       "      <td>0</td>\n",
       "      <td>0</td>\n",
       "      <td>0</td>\n",
       "      <td>0</td>\n",
       "      <td>41075</td>\n",
       "      <td>0</td>\n",
       "    </tr>\n",
       "  </tbody>\n",
       "</table>\n",
       "</div>"
      ],
      "text/plain": [
       "   nd_miss  pc_miss  lhdc_miss  lhdn_miss  lgac_miss  lgan_miss  pcr_miss  \\\n",
       "0        0      530          0          0          0          0     41075   \n",
       "\n",
       "   confirmed_cases_miss  \n",
       "0                     0  "
      ]
     },
     "execution_count": 2,
     "metadata": {},
     "output_type": "execute_result"
    }
   ],
   "source": [
    "pd.read_sql_query(\n",
    "    \"\"\"\n",
    "    SELECT SUM(CASE WHEN notification_date IS NULL THEN 1 ELSE 0 END) AS 'nd_miss',\n",
    "        SUM(CASE WHEN postcode IS 'None' THEN 1 ELSE 0 END) AS 'pc_miss',\n",
    "        SUM(CASE WHEN lhd_2010_code IS  NULL THEN 1 ELSE 0 END) AS 'lhdc_miss',\n",
    "        SUM(CASE WHEN lhd_2010_name IS NULL THEN 1 ELSE 0 END) AS 'lhdn_miss',\n",
    "        SUM(CASE WHEN lga_code19 IS NULL THEN 1 ELSE 0 END) AS 'lgac_miss',\n",
    "        SUM(CASE WHEN lga_name19 IS NULL THEN 1 ELSE 0 END) AS 'lgan_miss',\n",
    "        SUM(CASE WHEN confirmed_by_pcr IS NULL THEN 1 ELSE 0 END) AS 'pcr_miss',\n",
    "        SUM(CASE WHEN confirmed_cases_count IS NULL THEN 1 ELSE 0 END) AS 'confirmed_cases_miss'\n",
    "    FROM covid\n",
    "\"\"\",\n",
    "    engine,\n",
    ")\n"
   ]
  },
  {
   "cell_type": "markdown",
   "metadata": {},
   "source": [
    "Although Local Government Area (LGA) information is not missing for rows with missing `postcode`, `postcode` is nevertheless difficult to impute as there can be multiple postcodes in an LGA (1:M).\n",
    "\n",
    "Similarly, `confirmed_by_pcr` is difficult to impute. It records whether a case detected by Rapid Antigen Tests (RAT), reported to NSW Health, was also confirmed by PCR. All missing values were prior to 19 Jan 2022 and would be difficult to impute.\n"
   ]
  },
  {
   "cell_type": "code",
   "execution_count": 3,
   "metadata": {},
   "outputs": [
    {
     "data": {
      "text/html": [
       "<div>\n",
       "<style scoped>\n",
       "    .dataframe tbody tr th:only-of-type {\n",
       "        vertical-align: middle;\n",
       "    }\n",
       "\n",
       "    .dataframe tbody tr th {\n",
       "        vertical-align: top;\n",
       "    }\n",
       "\n",
       "    .dataframe thead th {\n",
       "        text-align: right;\n",
       "    }\n",
       "</style>\n",
       "<table border=\"1\" class=\"dataframe\">\n",
       "  <thead>\n",
       "    <tr style=\"text-align: right;\">\n",
       "      <th></th>\n",
       "      <th>latest_pcr_miss_date</th>\n",
       "    </tr>\n",
       "  </thead>\n",
       "  <tbody>\n",
       "    <tr>\n",
       "      <th>0</th>\n",
       "      <td>2022-01-19</td>\n",
       "    </tr>\n",
       "  </tbody>\n",
       "</table>\n",
       "</div>"
      ],
      "text/plain": [
       "  latest_pcr_miss_date\n",
       "0           2022-01-19"
      ]
     },
     "execution_count": 3,
     "metadata": {},
     "output_type": "execute_result"
    }
   ],
   "source": [
    "pd.read_sql_query(\n",
    "    \"\"\"\n",
    "        SELECT MAX(notification_date) AS 'latest_pcr_miss_date'\n",
    "        FROM covid\n",
    "        WHERE confirmed_by_pcr IS NULL\n",
    "    \"\"\",\n",
    "    engine,\n",
    ")\n"
   ]
  },
  {
   "cell_type": "markdown",
   "metadata": {},
   "source": [
    "## Analysis\n",
    "\n",
    "In this section, I use SQL queries and Python visualisations to highlight insights in the data.\n"
   ]
  },
  {
   "cell_type": "markdown",
   "metadata": {},
   "source": [
    "### Daily cases have trended upwards\n",
    "Since reporting started on 25 Jan 2020, daily cases have trended upwards, **peaking in Jan 2022**, and then to a lesser peak in Mar 2022."
   ]
  },
  {
   "cell_type": "code",
   "execution_count": 4,
   "metadata": {
    "scrolled": true,
    "tags": [
     "hide-input"
    ]
   },
   "outputs": [
    {
     "data": {
      "image/png": "[encoded data removed]",
      "text/plain": [
       "<Figure size 1152x504 with 1 Axes>"
      ]
     },
     "metadata": {},
     "output_type": "display_data"
    },
    {
     "data": {
      "text/plain": [
       "<Figure size 432x288 with 0 Axes>"
      ]
     },
     "metadata": {},
     "output_type": "display_data"
    }
   ],
   "source": [
    "import matplotlib.pyplot as plt\n",
    "import matplotlib.dates as md\n",
    "import seaborn as sns\n",
    "\n",
    "# querying\n",
    "daily_cases = pd.read_sql_query(\n",
    "    \"\"\"\n",
    "        SELECT DATE(notification_date) AS 'date',\n",
    "            SUM(confirmed_cases_count) AS 'reported_cases'\n",
    "        FROM covid\n",
    "        GROUP BY 1\n",
    "    \"\"\",\n",
    "    engine,\n",
    ")\n",
    "\n",
    "# transforming and extracting from DataFrame for visualisation\n",
    "daily_cases[\"date\"] = pd.to_datetime(daily_cases[\"date\"], format=\"%Y-%m-%d\")\n",
    "start_date = daily_cases.date.min().strftime(\"%d %b %Y\")\n",
    "end_date = daily_cases.date.max().strftime(\"%d %b %Y\")\n",
    "\n",
    "# plotting visualisation\n",
    "sns.set_style(\"dark\", {\"axes.facecolor\": \"0.95\"})\n",
    "sns.set_palette(\"dark\")\n",
    "\n",
    "fig, ax = plt.subplots(figsize=(16, 7))\n",
    "sns.lineplot(x=\"date\", y=\"reported_cases\", data=daily_cases, ax=ax, linewidth=2.5)\n",
    "plt.fill_between(x=daily_cases[\"date\"], y1=daily_cases[\"reported_cases\"], alpha=0.2)\n",
    "\n",
    "# setting x-axis ticks\n",
    "ax.xaxis.set_major_locator(md.MonthLocator(bymonthday=1))\n",
    "ax.xaxis.set_major_formatter(md.DateFormatter(\"%b-%Y\"))\n",
    "plt.setp(ax.xaxis.get_majorticklabels(), rotation=90)\n",
    "ax.tick_params(axis=\"both\", labelsize=12)\n",
    "\n",
    "# modifying line-chart parameters\n",
    "ax.figure.suptitle(\"Reported COVID Cases in NSW\", fontsize=18)\n",
    "ax.set_title(f\"{start_date} to {end_date}\", y=1.02, style=\"italic\")\n",
    "ax.set_xlabel(\"Date\", fontsize=13, labelpad=20)\n",
    "ax.set_ylabel(\"Reported Cases\", fontsize=13, labelpad=20)\n",
    "\n",
    "fig.subplots_adjust(top=0.89)\n",
    "\n",
    "plt.show()\n",
    "plt.clf()\n"
   ]
  },
  {
   "cell_type": "markdown",
   "metadata": {},
   "source": [
    "#### Cases peaked in Jan 2022, and then in Mar 2022...\n",
    "The **top 10 daily cases all occurred in _Jan 2022_**. 11th to 16th are part of the Mar 2022 spike. "
   ]
  },
  {
   "cell_type": "code",
   "execution_count": 5,
   "metadata": {
    "scrolled": true
   },
   "outputs": [
    {
     "data": {
      "text/html": [
       "<div>\n",
       "<style scoped>\n",
       "    .dataframe tbody tr th:only-of-type {\n",
       "        vertical-align: middle;\n",
       "    }\n",
       "\n",
       "    .dataframe tbody tr th {\n",
       "        vertical-align: top;\n",
       "    }\n",
       "\n",
       "    .dataframe thead th {\n",
       "        text-align: right;\n",
       "    }\n",
       "</style>\n",
       "<table border=\"1\" class=\"dataframe\">\n",
       "  <thead>\n",
       "    <tr style=\"text-align: right;\">\n",
       "      <th></th>\n",
       "      <th>rank</th>\n",
       "      <th>date</th>\n",
       "      <th>month_year</th>\n",
       "      <th>reported_cases</th>\n",
       "    </tr>\n",
       "  </thead>\n",
       "  <tbody>\n",
       "    <tr>\n",
       "      <th>0</th>\n",
       "      <td>1</td>\n",
       "      <td>2022-01-06</td>\n",
       "      <td>01-2022</td>\n",
       "      <td>40752</td>\n",
       "    </tr>\n",
       "    <tr>\n",
       "      <th>1</th>\n",
       "      <td>2</td>\n",
       "      <td>2022-01-05</td>\n",
       "      <td>01-2022</td>\n",
       "      <td>39431</td>\n",
       "    </tr>\n",
       "    <tr>\n",
       "      <th>2</th>\n",
       "      <td>3</td>\n",
       "      <td>2022-01-07</td>\n",
       "      <td>01-2022</td>\n",
       "      <td>37676</td>\n",
       "    </tr>\n",
       "    <tr>\n",
       "      <th>3</th>\n",
       "      <td>4</td>\n",
       "      <td>2022-01-10</td>\n",
       "      <td>01-2022</td>\n",
       "      <td>32070</td>\n",
       "    </tr>\n",
       "    <tr>\n",
       "      <th>4</th>\n",
       "      <td>5</td>\n",
       "      <td>2022-01-12</td>\n",
       "      <td>01-2022</td>\n",
       "      <td>29411</td>\n",
       "    </tr>\n",
       "    <tr>\n",
       "      <th>5</th>\n",
       "      <td>6</td>\n",
       "      <td>2022-01-04</td>\n",
       "      <td>01-2022</td>\n",
       "      <td>29031</td>\n",
       "    </tr>\n",
       "    <tr>\n",
       "      <th>6</th>\n",
       "      <td>7</td>\n",
       "      <td>2022-01-08</td>\n",
       "      <td>01-2022</td>\n",
       "      <td>28174</td>\n",
       "    </tr>\n",
       "    <tr>\n",
       "      <th>7</th>\n",
       "      <td>8</td>\n",
       "      <td>2022-01-11</td>\n",
       "      <td>01-2022</td>\n",
       "      <td>28137</td>\n",
       "    </tr>\n",
       "    <tr>\n",
       "      <th>8</th>\n",
       "      <td>9</td>\n",
       "      <td>2022-01-14</td>\n",
       "      <td>01-2022</td>\n",
       "      <td>26646</td>\n",
       "    </tr>\n",
       "    <tr>\n",
       "      <th>9</th>\n",
       "      <td>10</td>\n",
       "      <td>2022-01-03</td>\n",
       "      <td>01-2022</td>\n",
       "      <td>26374</td>\n",
       "    </tr>\n",
       "    <tr>\n",
       "      <th>10</th>\n",
       "      <td>11</td>\n",
       "      <td>2022-03-23</td>\n",
       "      <td>03-2022</td>\n",
       "      <td>25358</td>\n",
       "    </tr>\n",
       "    <tr>\n",
       "      <th>11</th>\n",
       "      <td>12</td>\n",
       "      <td>2022-03-14</td>\n",
       "      <td>03-2022</td>\n",
       "      <td>24675</td>\n",
       "    </tr>\n",
       "    <tr>\n",
       "      <th>12</th>\n",
       "      <td>13</td>\n",
       "      <td>2022-03-30</td>\n",
       "      <td>03-2022</td>\n",
       "      <td>24612</td>\n",
       "    </tr>\n",
       "    <tr>\n",
       "      <th>13</th>\n",
       "      <td>14</td>\n",
       "      <td>2022-03-22</td>\n",
       "      <td>03-2022</td>\n",
       "      <td>24315</td>\n",
       "    </tr>\n",
       "    <tr>\n",
       "      <th>14</th>\n",
       "      <td>15</td>\n",
       "      <td>2022-03-29</td>\n",
       "      <td>03-2022</td>\n",
       "      <td>24155</td>\n",
       "    </tr>\n",
       "    <tr>\n",
       "      <th>15</th>\n",
       "      <td>16</td>\n",
       "      <td>2022-03-28</td>\n",
       "      <td>03-2022</td>\n",
       "      <td>22855</td>\n",
       "    </tr>\n",
       "    <tr>\n",
       "      <th>16</th>\n",
       "      <td>17</td>\n",
       "      <td>2022-04-05</td>\n",
       "      <td>04-2022</td>\n",
       "      <td>22647</td>\n",
       "    </tr>\n",
       "    <tr>\n",
       "      <th>17</th>\n",
       "      <td>18</td>\n",
       "      <td>2022-03-24</td>\n",
       "      <td>03-2022</td>\n",
       "      <td>22395</td>\n",
       "    </tr>\n",
       "    <tr>\n",
       "      <th>18</th>\n",
       "      <td>19</td>\n",
       "      <td>2022-01-13</td>\n",
       "      <td>01-2022</td>\n",
       "      <td>22305</td>\n",
       "    </tr>\n",
       "    <tr>\n",
       "      <th>19</th>\n",
       "      <td>20</td>\n",
       "      <td>2022-03-31</td>\n",
       "      <td>03-2022</td>\n",
       "      <td>22259</td>\n",
       "    </tr>\n",
       "  </tbody>\n",
       "</table>\n",
       "</div>"
      ],
      "text/plain": [
       "    rank        date month_year  reported_cases\n",
       "0      1  2022-01-06    01-2022           40752\n",
       "1      2  2022-01-05    01-2022           39431\n",
       "2      3  2022-01-07    01-2022           37676\n",
       "3      4  2022-01-10    01-2022           32070\n",
       "4      5  2022-01-12    01-2022           29411\n",
       "5      6  2022-01-04    01-2022           29031\n",
       "6      7  2022-01-08    01-2022           28174\n",
       "7      8  2022-01-11    01-2022           28137\n",
       "8      9  2022-01-14    01-2022           26646\n",
       "9     10  2022-01-03    01-2022           26374\n",
       "10    11  2022-03-23    03-2022           25358\n",
       "11    12  2022-03-14    03-2022           24675\n",
       "12    13  2022-03-30    03-2022           24612\n",
       "13    14  2022-03-22    03-2022           24315\n",
       "14    15  2022-03-29    03-2022           24155\n",
       "15    16  2022-03-28    03-2022           22855\n",
       "16    17  2022-04-05    04-2022           22647\n",
       "17    18  2022-03-24    03-2022           22395\n",
       "18    19  2022-01-13    01-2022           22305\n",
       "19    20  2022-03-31    03-2022           22259"
      ]
     },
     "execution_count": 5,
     "metadata": {},
     "output_type": "execute_result"
    }
   ],
   "source": [
    "pd.read_sql_query(\n",
    "    \"\"\"\n",
    "    SELECT\n",
    "        RANK() OVER (\n",
    "            ORDER BY SUM(confirmed_cases_count) DESC\n",
    "        ) AS 'rank',\n",
    "        DATE(notification_date) AS 'date',\n",
    "        STRFTIME('%m-%Y', notification_date) AS 'month_year',\n",
    "        SUM(confirmed_cases_count) AS 'reported_cases'\n",
    "    FROM covid\n",
    "    GROUP BY 2\n",
    "    ORDER BY 4 DESC\n",
    "    LIMIT 20\n",
    "\"\"\",\n",
    "    engine,\n",
    ")\n"
   ]
  },
  {
   "cell_type": "markdown",
   "metadata": {},
   "source": [
    "#### Cases typically peak mid-week, decreasing into the weekend, then rebounding on Mondays... \n",
    "Over the reporting period, average daily cases tend to increase after the weekend, **peaking on Wednesdays** (daily average = 14.9 cases), before **reducing into the weekend until Sundays** (daily average = 11 cases)."
   ]
  },
  {
   "cell_type": "code",
   "execution_count": 11,
   "metadata": {
    "scrolled": true
   },
   "outputs": [
    {
     "data": {
      "image/png": "[encoded data removed]",
      "text/plain": [
       "<Figure size 720x576 with 1 Axes>"
      ]
     },
     "metadata": {},
     "output_type": "display_data"
    },
    {
     "data": {
      "text/html": [
       "<div>\n",
       "<style scoped>\n",
       "    .dataframe tbody tr th:only-of-type {\n",
       "        vertical-align: middle;\n",
       "    }\n",
       "\n",
       "    .dataframe tbody tr th {\n",
       "        vertical-align: top;\n",
       "    }\n",
       "\n",
       "    .dataframe thead th {\n",
       "        text-align: right;\n",
       "    }\n",
       "</style>\n",
       "<table border=\"1\" class=\"dataframe\">\n",
       "  <thead>\n",
       "    <tr style=\"text-align: right;\">\n",
       "      <th></th>\n",
       "      <th>day_of_wk</th>\n",
       "      <th>cases_avg</th>\n",
       "    </tr>\n",
       "  </thead>\n",
       "  <tbody>\n",
       "    <tr>\n",
       "      <th>1</th>\n",
       "      <td>Mon</td>\n",
       "      <td>14.0</td>\n",
       "    </tr>\n",
       "    <tr>\n",
       "      <th>2</th>\n",
       "      <td>Tue</td>\n",
       "      <td>14.4</td>\n",
       "    </tr>\n",
       "    <tr>\n",
       "      <th>3</th>\n",
       "      <td>Wed</td>\n",
       "      <td>14.9</td>\n",
       "    </tr>\n",
       "    <tr>\n",
       "      <th>4</th>\n",
       "      <td>Thu</td>\n",
       "      <td>13.9</td>\n",
       "    </tr>\n",
       "    <tr>\n",
       "      <th>5</th>\n",
       "      <td>Fri</td>\n",
       "      <td>12.9</td>\n",
       "    </tr>\n",
       "    <tr>\n",
       "      <th>6</th>\n",
       "      <td>Sat</td>\n",
       "      <td>11.3</td>\n",
       "    </tr>\n",
       "    <tr>\n",
       "      <th>0</th>\n",
       "      <td>Sun</td>\n",
       "      <td>11.0</td>\n",
       "    </tr>\n",
       "  </tbody>\n",
       "</table>\n",
       "</div>"
      ],
      "text/plain": [
       "  day_of_wk  cases_avg\n",
       "1       Mon       14.0\n",
       "2       Tue       14.4\n",
       "3       Wed       14.9\n",
       "4       Thu       13.9\n",
       "5       Fri       12.9\n",
       "6       Sat       11.3\n",
       "0       Sun       11.0"
      ]
     },
     "metadata": {},
     "output_type": "display_data"
    },
    {
     "data": {
      "text/plain": [
       "<Figure size 432x288 with 0 Axes>"
      ]
     },
     "metadata": {},
     "output_type": "display_data"
    }
   ],
   "source": [
    "days_of_wk = pd.read_sql_query(\n",
    "    \"\"\"\n",
    "    SELECT\n",
    "        SUBSTR(\n",
    "            'SunMonTueWedThuFriSat',\n",
    "            1 + 3 * STRFTIME('%w', notification_date), 3\n",
    "        ) AS 'day_of_wk',\n",
    "        ROUND(\n",
    "            AVG(confirmed_cases_count), 1\n",
    "        ) AS 'cases_avg'\n",
    "    FROM covid\n",
    "    GROUP BY 1\n",
    "    ORDER BY STRFTIME('%w', notification_date)\n",
    "\"\"\",\n",
    "    engine,\n",
    ")\n",
    "\n",
    "# Ordering by STRFTIME('%w') would start the week on Sunday instead of Monday\n",
    "days_of_wk[\"day_of_wk\"] = pd.Categorical(\n",
    "    days_of_wk.day_of_wk,\n",
    "    [\"Mon\", \"Tue\", \"Wed\", \"Thu\", \"Fri\", \"Sat\", \"Sun\"],\n",
    "    ordered=True,\n",
    ")\n",
    "days_of_wk.sort_values(\"day_of_wk\", inplace=True)\n",
    "\n",
    "# Plotting\n",
    "sns.set_palette(\"Set1\", 7)\n",
    "\n",
    "fig, ax = plt.subplots(figsize=(10, 8))\n",
    "\n",
    "sns.barplot(\n",
    "    data=days_of_wk,\n",
    "    x=\"day_of_wk\",\n",
    "    y=\"cases_avg\",\n",
    "    edgecolor=\"black\",\n",
    "    linewidth=1.5,\n",
    "    ax=ax,\n",
    "    alpha=0.7,\n",
    ").set(xlabel=None, ylabel=\"Cases\", title=\"Avg Cases Over the Week\")\n",
    "\n",
    "plt.show()\n",
    "plt.clf()\n",
    "\n",
    "display(days_of_wk)\n"
   ]
  },
  {
   "cell_type": "markdown",
   "metadata": {},
   "source": [
    "### \"Zero\" days\n",
    "Days without any COVID-19 cases were more frequent at the beginning of the reporting period. **Feb 2020 was an entire *month* of zero days.**"
   ]
  },
  {
   "cell_type": "code",
   "execution_count": 6,
   "metadata": {
    "scrolled": true
   },
   "outputs": [
    {
     "data": {
      "text/plain": [
       "'Preview: '"
      ]
     },
     "metadata": {},
     "output_type": "display_data"
    },
    {
     "data": {
      "text/html": [
       "<div>\n",
       "<style scoped>\n",
       "    .dataframe tbody tr th:only-of-type {\n",
       "        vertical-align: middle;\n",
       "    }\n",
       "\n",
       "    .dataframe tbody tr th {\n",
       "        vertical-align: top;\n",
       "    }\n",
       "\n",
       "    .dataframe thead th {\n",
       "        text-align: right;\n",
       "    }\n",
       "</style>\n",
       "<table border=\"1\" class=\"dataframe\">\n",
       "  <thead>\n",
       "    <tr style=\"text-align: right;\">\n",
       "      <th></th>\n",
       "      <th>date</th>\n",
       "    </tr>\n",
       "  </thead>\n",
       "  <tbody>\n",
       "    <tr>\n",
       "      <th>0</th>\n",
       "      <td>2020-01-26</td>\n",
       "    </tr>\n",
       "    <tr>\n",
       "      <th>1</th>\n",
       "      <td>2020-01-28</td>\n",
       "    </tr>\n",
       "    <tr>\n",
       "      <th>2</th>\n",
       "      <td>2020-01-29</td>\n",
       "    </tr>\n",
       "    <tr>\n",
       "      <th>3</th>\n",
       "      <td>2020-01-30</td>\n",
       "    </tr>\n",
       "    <tr>\n",
       "      <th>4</th>\n",
       "      <td>2020-01-31</td>\n",
       "    </tr>\n",
       "  </tbody>\n",
       "</table>\n",
       "</div>"
      ],
      "text/plain": [
       "         date\n",
       "0  2020-01-26\n",
       "1  2020-01-28\n",
       "2  2020-01-29\n",
       "3  2020-01-30\n",
       "4  2020-01-31"
      ]
     },
     "metadata": {},
     "output_type": "display_data"
    }
   ],
   "source": [
    "zero_days_df = pd.read_sql_query(\n",
    "    \"\"\"\n",
    "        WITH RECURSIVE dates(date) AS (\n",
    "            VALUES((\n",
    "                SELECT MIN(notification_date)\n",
    "                FROM covid\n",
    "                )\n",
    "            )\n",
    "            UNION ALL\n",
    "            SELECT DATE(date, '+1 day')\n",
    "            FROM dates\n",
    "            WHERE date < (\n",
    "                SELECT MAX(notification_date)\n",
    "                FROM covid\n",
    "                )\n",
    "            )\n",
    "\n",
    "        SELECT\n",
    "            d.*\n",
    "        FROM dates d\n",
    "        LEFT JOIN covid c\n",
    "            ON c.notification_date = d.date\n",
    "        WHERE c.notification_date IS NULL\n",
    "        ORDER BY 1\n",
    "        \"\"\",\n",
    "    engine,\n",
    ")\n",
    "\n",
    "zero_days_df.to_sql(\"zero_days\", engine, if_exists=\"replace\", index=False)\n",
    "display(\"Preview: \", zero_days_df.head())"
   ]
  },
  {
   "cell_type": "code",
   "execution_count": 7,
   "metadata": {
    "scrolled": true
   },
   "outputs": [
    {
     "data": {
      "text/html": [
       "<div>\n",
       "<style scoped>\n",
       "    .dataframe tbody tr th:only-of-type {\n",
       "        vertical-align: middle;\n",
       "    }\n",
       "\n",
       "    .dataframe tbody tr th {\n",
       "        vertical-align: top;\n",
       "    }\n",
       "\n",
       "    .dataframe thead th {\n",
       "        text-align: right;\n",
       "    }\n",
       "</style>\n",
       "<table border=\"1\" class=\"dataframe\">\n",
       "  <thead>\n",
       "    <tr style=\"text-align: right;\">\n",
       "      <th></th>\n",
       "      <th>year_month</th>\n",
       "      <th>zero_days_count</th>\n",
       "    </tr>\n",
       "  </thead>\n",
       "  <tbody>\n",
       "    <tr>\n",
       "      <th>0</th>\n",
       "      <td>2020-01</td>\n",
       "      <td>5</td>\n",
       "    </tr>\n",
       "    <tr>\n",
       "      <th>1</th>\n",
       "      <td>2020-02</td>\n",
       "      <td>29</td>\n",
       "    </tr>\n",
       "    <tr>\n",
       "      <th>2</th>\n",
       "      <td>2020-05</td>\n",
       "      <td>9</td>\n",
       "    </tr>\n",
       "    <tr>\n",
       "      <th>3</th>\n",
       "      <td>2020-06</td>\n",
       "      <td>4</td>\n",
       "    </tr>\n",
       "    <tr>\n",
       "      <th>4</th>\n",
       "      <td>2020-09</td>\n",
       "      <td>3</td>\n",
       "    </tr>\n",
       "    <tr>\n",
       "      <th>5</th>\n",
       "      <td>2020-10</td>\n",
       "      <td>1</td>\n",
       "    </tr>\n",
       "    <tr>\n",
       "      <th>6</th>\n",
       "      <td>2020-11</td>\n",
       "      <td>3</td>\n",
       "    </tr>\n",
       "    <tr>\n",
       "      <th>7</th>\n",
       "      <td>2021-01</td>\n",
       "      <td>7</td>\n",
       "    </tr>\n",
       "    <tr>\n",
       "      <th>8</th>\n",
       "      <td>2021-02</td>\n",
       "      <td>10</td>\n",
       "    </tr>\n",
       "    <tr>\n",
       "      <th>9</th>\n",
       "      <td>2021-03</td>\n",
       "      <td>6</td>\n",
       "    </tr>\n",
       "    <tr>\n",
       "      <th>10</th>\n",
       "      <td>2021-04</td>\n",
       "      <td>4</td>\n",
       "    </tr>\n",
       "    <tr>\n",
       "      <th>11</th>\n",
       "      <td>2021-05</td>\n",
       "      <td>6</td>\n",
       "    </tr>\n",
       "    <tr>\n",
       "      <th>12</th>\n",
       "      <td>2021-06</td>\n",
       "      <td>4</td>\n",
       "    </tr>\n",
       "  </tbody>\n",
       "</table>\n",
       "</div>"
      ],
      "text/plain": [
       "   year_month  zero_days_count\n",
       "0     2020-01                5\n",
       "1     2020-02               29\n",
       "2     2020-05                9\n",
       "3     2020-06                4\n",
       "4     2020-09                3\n",
       "5     2020-10                1\n",
       "6     2020-11                3\n",
       "7     2021-01                7\n",
       "8     2021-02               10\n",
       "9     2021-03                6\n",
       "10    2021-04                4\n",
       "11    2021-05                6\n",
       "12    2021-06                4"
      ]
     },
     "execution_count": 7,
     "metadata": {},
     "output_type": "execute_result"
    }
   ],
   "source": [
    "pd.read_sql_query(\n",
    "    \"\"\"\n",
    "    SELECT \n",
    "        STRFTIME('%Y-%m', date) AS 'year_month',\n",
    "        COUNT(*) AS 'zero_days_count'\n",
    "    FROM zero_days\n",
    "    GROUP BY 1\n",
    "    ORDER BY 1\n",
    "\"\"\",\n",
    "    engine,\n",
    ")\n"
   ]
  },
  {
   "cell_type": "markdown",
   "metadata": {},
   "source": [
    "#### Days since the last \"zero\" day...\n",
    "As of the latest date in the dataset, the days since the last \"zero day\" is..."
   ]
  },
  {
   "cell_type": "code",
   "execution_count": 22,
   "metadata": {
    "scrolled": true
   },
   "outputs": [
    {
     "data": {
      "text/markdown": [
       "\n",
       "<h1 align='center'>401</h1>\n",
       "<div align='center'><br>days since the last COVID-zero day</div>"
      ],
      "text/plain": [
       "<IPython.core.display.Markdown object>"
      ]
     },
     "metadata": {},
     "output_type": "display_data"
    }
   ],
   "source": [
    "from IPython.display import Markdown\n",
    "import numpy as np\n",
    "\n",
    "last_zeroday = pd.to_datetime(zero_days_df.date.max())\n",
    "days_since_zero = round(\n",
    "    (daily_cases.date.max() - last_zeroday) / np.timedelta64(1, \"D\")\n",
    ")\n",
    "\n",
    "display(\n",
    "    Markdown(\n",
    "        f\"\"\"\n",
    "<h1 align='center'>{days_since_zero}</h1>\n",
    "<div align='center'><br>days since the last COVID-zero day</div>\"\"\"\n",
    "    )\n",
    ")\n"
   ]
  },
  {
   "cell_type": "markdown",
   "metadata": {},
   "source": [
    "#### The longest streak of \"zero\" days was 33 days...\n",
    "Since reporting began 25 Jan 2020, the longest streak began on 28 Jan 2020, and lasted until 1 Mar 2020. \n",
    "\n",
    "Conscious testing rates were likely low as [Australia only reported its first COVID case on 25 Jan 2020](https://www.health.gov.au/ministers/the-hon-greg-hunt-mp/media/first-confirmed-case-of-novel-coronavirus-in-australia), the second longest streak of 4 days began on 11 Feb 2021, and lasted until 15 Feb 2021:"
   ]
  },
  {
   "cell_type": "code",
   "execution_count": 9,
   "metadata": {
    "scrolled": false
   },
   "outputs": [
    {
     "data": {
      "text/html": [
       "<div>\n",
       "<style scoped>\n",
       "    .dataframe tbody tr th:only-of-type {\n",
       "        vertical-align: middle;\n",
       "    }\n",
       "\n",
       "    .dataframe tbody tr th {\n",
       "        vertical-align: top;\n",
       "    }\n",
       "\n",
       "    .dataframe thead th {\n",
       "        text-align: right;\n",
       "    }\n",
       "</style>\n",
       "<table border=\"1\" class=\"dataframe\">\n",
       "  <thead>\n",
       "    <tr style=\"text-align: right;\">\n",
       "      <th></th>\n",
       "      <th>date_streak_broken</th>\n",
       "      <th>date_diff</th>\n",
       "    </tr>\n",
       "  </thead>\n",
       "  <tbody>\n",
       "    <tr>\n",
       "      <th>0</th>\n",
       "      <td>2020-03-01</td>\n",
       "      <td>33</td>\n",
       "    </tr>\n",
       "    <tr>\n",
       "      <th>1</th>\n",
       "      <td>2021-02-15</td>\n",
       "      <td>4</td>\n",
       "    </tr>\n",
       "    <tr>\n",
       "      <th>2</th>\n",
       "      <td>2020-05-18</td>\n",
       "      <td>3</td>\n",
       "    </tr>\n",
       "    <tr>\n",
       "      <th>3</th>\n",
       "      <td>2021-06-02</td>\n",
       "      <td>3</td>\n",
       "    </tr>\n",
       "    <tr>\n",
       "      <th>4</th>\n",
       "      <td>2020-05-12</td>\n",
       "      <td>2</td>\n",
       "    </tr>\n",
       "  </tbody>\n",
       "</table>\n",
       "</div>"
      ],
      "text/plain": [
       "  date_streak_broken  date_diff\n",
       "0         2020-03-01         33\n",
       "1         2021-02-15          4\n",
       "2         2020-05-18          3\n",
       "3         2021-06-02          3\n",
       "4         2020-05-12          2"
      ]
     },
     "execution_count": 9,
     "metadata": {},
     "output_type": "execute_result"
    }
   ],
   "source": [
    "# I minus 1 day from the difference between two dates where there were 1+ reported cases,\n",
    "# as the calculation includes the day that breaks the streak (and has 1+ reported cases)\n",
    "\n",
    "zd_streaks = pd.read_sql_query(\n",
    "    \"\"\"\n",
    "        WITH daily_cases AS (\n",
    "            SELECT \n",
    "                DATE(notification_date) AS 'date',\n",
    "                SUM(confirmed_cases_count) AS 'reported_cases'\n",
    "            FROM covid\n",
    "            GROUP BY 1\n",
    "        )\n",
    "\n",
    "        SELECT *\n",
    "        FROM (\n",
    "            SELECT \n",
    "                date AS 'date_streak_broken', \n",
    "                ROUND(\n",
    "                    JULIANDAY(date) \n",
    "                    - JULIANDAY(\n",
    "                            LAG(date) OVER (\n",
    "                                ORDER BY date\n",
    "                            )\n",
    "                    )\n",
    "                - 1) AS 'date_diff'\n",
    "            FROM daily_cases\n",
    "        )\n",
    "        WHERE date_diff > 0\n",
    "        ORDER BY date_diff DESC\n",
    "    \"\"\",\n",
    "    engine,\n",
    ")\n",
    "\n",
    "# `date_diff` = 0 is filtered out as these mean no zero days in between those dates\n",
    "\n",
    "zd_streaks[\"date_diff\"] = zd_streaks[\"date_diff\"].astype(int)\n",
    "\n",
    "zd_streaks.head()\n"
   ]
  },
  {
   "cell_type": "markdown",
   "metadata": {},
   "source": [
    "#### Most \"zero\" days were not consecutive. The 33-day streak is an outlier...\n",
    "Examining the right-skewed distribution of \"zero\" day streaks, **72% of \"zero\" days were non-consecutive.** The 33-day streak, at the beginning of 2020, is an _outlier_ within the dataset."
   ]
  },
  {
   "cell_type": "code",
   "execution_count": 10,
   "metadata": {
    "scrolled": false
   },
   "outputs": [
    {
     "data": {
      "image/png": "[encoded data removed]",
      "text/plain": [
       "<Figure size 720x576 with 3 Axes>"
      ]
     },
     "metadata": {},
     "output_type": "display_data"
    },
    {
     "data": {
      "text/plain": [
       "<Figure size 432x288 with 0 Axes>"
      ]
     },
     "metadata": {},
     "output_type": "display_data"
    }
   ],
   "source": [
    "import matplotlib.gridspec as gridspec\n",
    "\n",
    "gs = gridspec.GridSpec(2, 2)\n",
    "f = plt.figure(figsize=(10, 8))\n",
    "\n",
    "# histogram for distribution\n",
    "sns.set_palette(\"dark\")\n",
    "zd_hist = f.add_subplot(gs[:-1, :])\n",
    "sns.histplot(\n",
    "    data=zd_streaks,\n",
    "    x=\"date_diff\",\n",
    "    alpha=0.5,\n",
    "    legend=False,\n",
    "    edgecolor=\"black\",\n",
    "    linewidth=1.5,\n",
    ").set(xlabel=\"Continuous Zero Days\", title=\"Distribution of Zero Days Streaks\")\n",
    "\n",
    "# countplot for distribution\n",
    "sns.set_palette(\"Set1\")\n",
    "zd_countp = f.add_subplot(gs[1, 0])\n",
    "sns.countplot(data=zd_streaks, x=\"date_diff\", edgecolor=\"black\", linewidth=1.5).set(\n",
    "    xlabel=\"Continuous Zero Days\", ylabel=\"Count\", title=\"Zero Days Streaks\"\n",
    ")\n",
    "\n",
    "# donut chart for proportion\n",
    "zd_prop = f.add_subplot(gs[1, 1])\n",
    "## transforming table for donut chart generation\n",
    "zd_streaks_count = (\n",
    "    zd_streaks.groupby(\"date_diff\")\n",
    "    .count()\n",
    "    .reset_index()\n",
    "    .rename(columns={\"date_streak_broken\": \"date_diff_count\"})\n",
    ")\n",
    "zd_donut = plt.pie(\n",
    "    zd_streaks_count[\"date_diff_count\"],\n",
    "    wedgeprops={\"linewidth\": 1.5, \"edgecolor\": \"black\"},\n",
    "    autopct=\"%d%%\",\n",
    ")\n",
    "plt.title(\"Proportion of Zero Days Streaks\")\n",
    "\n",
    "my_circle = plt.Circle((0, 0), 0.7, facecolor=\"white\", edgecolor=\"black\", linewidth=1.5)\n",
    "p = plt.gcf()\n",
    "p.gca().add_artist(my_circle)\n",
    "\n",
    "\n",
    "gs.tight_layout(f)\n",
    "plt.show()\n",
    "plt.clf()\n"
   ]
  },
  {
   "cell_type": "markdown",
   "metadata": {},
   "source": [
    "#### \"Zero\" days occur slightly more on Saturdays...\n",
    "\"Zero\" days are approximately the same over the week. 18% of \"zero\" days occurred on Saturdays (16 times)."
   ]
  },
  {
   "cell_type": "code",
   "execution_count": 12,
   "metadata": {
    "scrolled": false
   },
   "outputs": [
    {
     "data": {
      "image/png": "[encoded data removed]",
      "text/plain": [
       "<Figure size 720x576 with 1 Axes>"
      ]
     },
     "metadata": {},
     "output_type": "display_data"
    },
    {
     "data": {
      "text/html": [
       "<div>\n",
       "<style scoped>\n",
       "    .dataframe tbody tr th:only-of-type {\n",
       "        vertical-align: middle;\n",
       "    }\n",
       "\n",
       "    .dataframe tbody tr th {\n",
       "        vertical-align: top;\n",
       "    }\n",
       "\n",
       "    .dataframe thead th {\n",
       "        text-align: right;\n",
       "    }\n",
       "</style>\n",
       "<table border=\"1\" class=\"dataframe\">\n",
       "  <thead>\n",
       "    <tr style=\"text-align: right;\">\n",
       "      <th></th>\n",
       "      <th>day_of_wk</th>\n",
       "      <th>zero_days_count</th>\n",
       "      <th>proportion</th>\n",
       "    </tr>\n",
       "  </thead>\n",
       "  <tbody>\n",
       "    <tr>\n",
       "      <th>0</th>\n",
       "      <td>Mon</td>\n",
       "      <td>13</td>\n",
       "      <td>0.14</td>\n",
       "    </tr>\n",
       "    <tr>\n",
       "      <th>1</th>\n",
       "      <td>Tue</td>\n",
       "      <td>12</td>\n",
       "      <td>0.13</td>\n",
       "    </tr>\n",
       "    <tr>\n",
       "      <th>2</th>\n",
       "      <td>Wed</td>\n",
       "      <td>12</td>\n",
       "      <td>0.13</td>\n",
       "    </tr>\n",
       "    <tr>\n",
       "      <th>3</th>\n",
       "      <td>Thu</td>\n",
       "      <td>12</td>\n",
       "      <td>0.13</td>\n",
       "    </tr>\n",
       "    <tr>\n",
       "      <th>4</th>\n",
       "      <td>Fri</td>\n",
       "      <td>14</td>\n",
       "      <td>0.15</td>\n",
       "    </tr>\n",
       "    <tr>\n",
       "      <th>5</th>\n",
       "      <td>Sat</td>\n",
       "      <td>16</td>\n",
       "      <td>0.18</td>\n",
       "    </tr>\n",
       "    <tr>\n",
       "      <th>6</th>\n",
       "      <td>Sun</td>\n",
       "      <td>12</td>\n",
       "      <td>0.13</td>\n",
       "    </tr>\n",
       "  </tbody>\n",
       "</table>\n",
       "</div>"
      ],
      "text/plain": [
       "  day_of_wk  zero_days_count  proportion\n",
       "0       Mon               13        0.14\n",
       "1       Tue               12        0.13\n",
       "2       Wed               12        0.13\n",
       "3       Thu               12        0.13\n",
       "4       Fri               14        0.15\n",
       "5       Sat               16        0.18\n",
       "6       Sun               12        0.13"
      ]
     },
     "metadata": {},
     "output_type": "display_data"
    },
    {
     "data": {
      "text/plain": [
       "<Figure size 432x288 with 0 Axes>"
      ]
     },
     "metadata": {},
     "output_type": "display_data"
    }
   ],
   "source": [
    "zd_days_of_wk = pd.read_sql_query(\n",
    "    \"\"\"\n",
    "    SELECT\n",
    "        SUBSTR(\n",
    "            'SunMonTueWedThuFriSat',\n",
    "            1 + 3 * STRFTIME('%w', date), 3\n",
    "        ) AS 'day_of_wk',\n",
    "        COUNT(*) AS 'zero_days_count',\n",
    "        ROUND(\n",
    "            1.0 * COUNT(*) / (\n",
    "                SELECT COUNT(*)\n",
    "                FROM zero_days\n",
    "            ), 2) AS proportion\n",
    "    FROM zero_days\n",
    "    GROUP BY 1\n",
    "    ORDER BY STRFTIME('%w', date)\n",
    "\"\"\",\n",
    "    engine,\n",
    ")\n",
    "\n",
    "zd_days_of_wk[\"day_of_wk\"] = pd.Categorical(\n",
    "    days_of_wk.day_of_wk,\n",
    "    [\"Mon\", \"Tue\", \"Wed\", \"Thu\", \"Fri\", \"Sat\", \"Sun\"],\n",
    "    ordered=True,\n",
    ")\n",
    "zd_days_of_wk.sort_values(\"day_of_wk\", inplace=True)\n",
    "\n",
    "# Plotting\n",
    "sns.set_palette(\"Set1\", 7)\n",
    "fig, ax = plt.subplots(figsize=(10, 8))\n",
    "\n",
    "sns.barplot(\n",
    "    data=zd_days_of_wk,\n",
    "    x=\"day_of_wk\",\n",
    "    y=\"zero_days_count\",\n",
    "    edgecolor=\"black\",\n",
    "    linewidth=1.5,\n",
    "    ax=ax,\n",
    "    alpha=0.7,\n",
    ").set(xlabel=None, ylabel=\"Count of Zero Days\", title=\"Zero Days Over the Week\")\n",
    "\n",
    "plt.show()\n",
    "plt.clf()\n",
    "\n",
    "display(zd_days_of_wk)\n"
   ]
  },
  {
   "cell_type": "markdown",
   "metadata": {},
   "source": [
    "### Geography"
   ]
  },
  {
   "cell_type": "code",
   "execution_count": null,
   "metadata": {},
   "outputs": [],
   "source": []
  },
  {
   "cell_type": "code",
   "execution_count": 13,
   "metadata": {},
   "outputs": [],
   "source": [
    "### potential insights:\n",
    "# correlation between population (latest data) and COVID cases (per capita) in LGA/postcode (Greater Sydney vs Rural vs Remote)\n",
    "# correlation between taxable income (latest data) and COVID cases in each LGA/postcode\n",
    "# last LGAs standing (last to have reported COVID case)\n",
    "# covid cases and covid-related infringement notices\n"
   ]
  },
  {
   "cell_type": "markdown",
   "metadata": {},
   "source": [
    "### PCR vs RAT"
   ]
  }
 ],
 "metadata": {
  "kernelspec": {
   "display_name": "Python 3",
   "language": "python",
   "name": "python3"
  },
  "language_info": {
   "codemirror_mode": {
    "name": "ipython",
    "version": 3
   },
   "file_extension": ".py",
   "mimetype": "text/x-python",
   "name": "python",
   "nbconvert_exporter": "python",
   "pygments_lexer": "ipython3",
   "version": "3.8.8"
  },
  "vscode": {
   "interpreter": {
    "hash": "1215b1aecdd8c83375b241d0c862057777d1b41ed412da38189195d086960e71"
   }
  }
 },
 "nbformat": 4,
 "nbformat_minor": 4
}
